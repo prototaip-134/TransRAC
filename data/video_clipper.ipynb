{
 "cells": [
  {
   "cell_type": "code",
   "execution_count": 33,
   "id": "488e232d",
   "metadata": {
    "scrolled": true
   },
   "outputs": [],
   "source": [
    "import pandas as pd\n",
    "import os\n",
    "from moviepy.video.io.VideoFileClip import VideoFileClip\n",
    "\n",
    "# Load your CSV file\n",
    "df = pd.read_csv('./cow_bite_links_1407_transrac.csv')\n"
   ]
  },
  {
   "cell_type": "code",
   "execution_count": 34,
   "id": "b4ff3bda",
   "metadata": {
    "scrolled": true
   },
   "outputs": [],
   "source": [
    "import pandas as pd\n",
    "from moviepy.video.io.VideoFileClip import VideoFileClip\n",
    "\n",
    "# Define the function to split videos\n",
    "def split_video(input_path, output_path, start_frame, end_frame):\n",
    "    video = VideoFileClip(input_path)\n",
    "    fps = video.fps\n",
    "    start_time = start_frame / fps\n",
    "    end_time = end_frame / fps\n",
    "    subclip = video.subclip(start_time, end_time)\n",
    "    subclip.write_videofile(output_path, codec=\"libx264\")\n",
    "\n",
    "# Filter for videos with more than 25 counts\n",
    "df_filtered = df[df['count'] > 25]"
   ]
  },
  {
   "cell_type": "code",
   "execution_count": 35,
   "id": "6675deaa",
   "metadata": {},
   "outputs": [],
   "source": [
    "def get_endframes_Ls(count):\n",
    "    L = set([i for i in range(1, count*2, 50)])\n",
    "    L.add(count*2)\n",
    "    return sorted(list(L))"
   ]
  },
  {
   "cell_type": "code",
   "execution_count": 36,
   "id": "80365ce7",
   "metadata": {},
   "outputs": [
    {
     "data": {
      "text/plain": [
       "[1, 51, 100]"
      ]
     },
     "execution_count": 36,
     "metadata": {},
     "output_type": "execute_result"
    }
   ],
   "source": [
    "get_endframes_Ls(50)"
   ]
  },
  {
   "cell_type": "code",
   "execution_count": 37,
   "id": "37f02e99",
   "metadata": {
    "scrolled": true
   },
   "outputs": [
    {
     "data": {
      "text/html": [
       "<div>\n",
       "<style scoped>\n",
       "    .dataframe tbody tr th:only-of-type {\n",
       "        vertical-align: middle;\n",
       "    }\n",
       "\n",
       "    .dataframe tbody tr th {\n",
       "        vertical-align: top;\n",
       "    }\n",
       "\n",
       "    .dataframe thead th {\n",
       "        text-align: right;\n",
       "    }\n",
       "</style>\n",
       "<table border=\"1\" class=\"dataframe\">\n",
       "  <thead>\n",
       "    <tr style=\"text-align: right;\">\n",
       "      <th></th>\n",
       "      <th>Unnamed: 0</th>\n",
       "      <th>type</th>\n",
       "      <th>name</th>\n",
       "      <th>count</th>\n",
       "      <th>L1</th>\n",
       "      <th>L2</th>\n",
       "      <th>L3</th>\n",
       "      <th>L4</th>\n",
       "      <th>L5</th>\n",
       "      <th>L6</th>\n",
       "      <th>...</th>\n",
       "      <th>L127</th>\n",
       "      <th>L128</th>\n",
       "      <th>L129</th>\n",
       "      <th>L130</th>\n",
       "      <th>L131</th>\n",
       "      <th>L132</th>\n",
       "      <th>L133</th>\n",
       "      <th>L134</th>\n",
       "      <th>L135</th>\n",
       "      <th>L136</th>\n",
       "    </tr>\n",
       "  </thead>\n",
       "  <tbody>\n",
       "    <tr>\n",
       "      <th>1</th>\n",
       "      <td>1</td>\n",
       "      <td>cow_bite</td>\n",
       "      <td>2f4338b600baddf8b021162744427b9faaf7ec28230638...</td>\n",
       "      <td>29</td>\n",
       "      <td>1</td>\n",
       "      <td>10</td>\n",
       "      <td>21.0</td>\n",
       "      <td>28.0</td>\n",
       "      <td>40.0</td>\n",
       "      <td>47.0</td>\n",
       "      <td>...</td>\n",
       "      <td>NaN</td>\n",
       "      <td>NaN</td>\n",
       "      <td>NaN</td>\n",
       "      <td>NaN</td>\n",
       "      <td>NaN</td>\n",
       "      <td>NaN</td>\n",
       "      <td>NaN</td>\n",
       "      <td>NaN</td>\n",
       "      <td>NaN</td>\n",
       "      <td>NaN</td>\n",
       "    </tr>\n",
       "    <tr>\n",
       "      <th>2</th>\n",
       "      <td>2</td>\n",
       "      <td>cow_bite</td>\n",
       "      <td>3c86acfbc4289cc6d83adc3268a97e3eb2ecf1316d731b...</td>\n",
       "      <td>34</td>\n",
       "      <td>14</td>\n",
       "      <td>23</td>\n",
       "      <td>36.0</td>\n",
       "      <td>47.0</td>\n",
       "      <td>60.0</td>\n",
       "      <td>69.0</td>\n",
       "      <td>...</td>\n",
       "      <td>NaN</td>\n",
       "      <td>NaN</td>\n",
       "      <td>NaN</td>\n",
       "      <td>NaN</td>\n",
       "      <td>NaN</td>\n",
       "      <td>NaN</td>\n",
       "      <td>NaN</td>\n",
       "      <td>NaN</td>\n",
       "      <td>NaN</td>\n",
       "      <td>NaN</td>\n",
       "    </tr>\n",
       "    <tr>\n",
       "      <th>5</th>\n",
       "      <td>5</td>\n",
       "      <td>cow_bite</td>\n",
       "      <td>10f1a9b90589c2bc657320dc4958fb19ea2d51fbcdb251...</td>\n",
       "      <td>50</td>\n",
       "      <td>22</td>\n",
       "      <td>29</td>\n",
       "      <td>47.0</td>\n",
       "      <td>53.0</td>\n",
       "      <td>72.0</td>\n",
       "      <td>81.0</td>\n",
       "      <td>...</td>\n",
       "      <td>NaN</td>\n",
       "      <td>NaN</td>\n",
       "      <td>NaN</td>\n",
       "      <td>NaN</td>\n",
       "      <td>NaN</td>\n",
       "      <td>NaN</td>\n",
       "      <td>NaN</td>\n",
       "      <td>NaN</td>\n",
       "      <td>NaN</td>\n",
       "      <td>NaN</td>\n",
       "    </tr>\n",
       "    <tr>\n",
       "      <th>6</th>\n",
       "      <td>6</td>\n",
       "      <td>cow_bite</td>\n",
       "      <td>14ac6845ecc16c132aa2ecc75f5619c36d603e5f5e9021...</td>\n",
       "      <td>41</td>\n",
       "      <td>8</td>\n",
       "      <td>14</td>\n",
       "      <td>20.0</td>\n",
       "      <td>27.0</td>\n",
       "      <td>35.0</td>\n",
       "      <td>39.0</td>\n",
       "      <td>...</td>\n",
       "      <td>NaN</td>\n",
       "      <td>NaN</td>\n",
       "      <td>NaN</td>\n",
       "      <td>NaN</td>\n",
       "      <td>NaN</td>\n",
       "      <td>NaN</td>\n",
       "      <td>NaN</td>\n",
       "      <td>NaN</td>\n",
       "      <td>NaN</td>\n",
       "      <td>NaN</td>\n",
       "    </tr>\n",
       "    <tr>\n",
       "      <th>7</th>\n",
       "      <td>7</td>\n",
       "      <td>cow_bite</td>\n",
       "      <td>37c993d16e39c7a06469d11edce24326323c489f75de5d...</td>\n",
       "      <td>42</td>\n",
       "      <td>26</td>\n",
       "      <td>32</td>\n",
       "      <td>45.0</td>\n",
       "      <td>54.0</td>\n",
       "      <td>69.0</td>\n",
       "      <td>77.0</td>\n",
       "      <td>...</td>\n",
       "      <td>NaN</td>\n",
       "      <td>NaN</td>\n",
       "      <td>NaN</td>\n",
       "      <td>NaN</td>\n",
       "      <td>NaN</td>\n",
       "      <td>NaN</td>\n",
       "      <td>NaN</td>\n",
       "      <td>NaN</td>\n",
       "      <td>NaN</td>\n",
       "      <td>NaN</td>\n",
       "    </tr>\n",
       "    <tr>\n",
       "      <th>9</th>\n",
       "      <td>9</td>\n",
       "      <td>cow_bite</td>\n",
       "      <td>54d5f63b8d886c2519a1eb5b4a19b409a919c0b94ac345...</td>\n",
       "      <td>33</td>\n",
       "      <td>27</td>\n",
       "      <td>36</td>\n",
       "      <td>49.0</td>\n",
       "      <td>57.0</td>\n",
       "      <td>70.0</td>\n",
       "      <td>78.0</td>\n",
       "      <td>...</td>\n",
       "      <td>NaN</td>\n",
       "      <td>NaN</td>\n",
       "      <td>NaN</td>\n",
       "      <td>NaN</td>\n",
       "      <td>NaN</td>\n",
       "      <td>NaN</td>\n",
       "      <td>NaN</td>\n",
       "      <td>NaN</td>\n",
       "      <td>NaN</td>\n",
       "      <td>NaN</td>\n",
       "    </tr>\n",
       "    <tr>\n",
       "      <th>11</th>\n",
       "      <td>11</td>\n",
       "      <td>cow_bite</td>\n",
       "      <td>284d9ee203882c3bcc2dff888d49ba6ea4da8fbd943e8e...</td>\n",
       "      <td>27</td>\n",
       "      <td>14</td>\n",
       "      <td>23</td>\n",
       "      <td>37.0</td>\n",
       "      <td>49.0</td>\n",
       "      <td>60.0</td>\n",
       "      <td>75.0</td>\n",
       "      <td>...</td>\n",
       "      <td>NaN</td>\n",
       "      <td>NaN</td>\n",
       "      <td>NaN</td>\n",
       "      <td>NaN</td>\n",
       "      <td>NaN</td>\n",
       "      <td>NaN</td>\n",
       "      <td>NaN</td>\n",
       "      <td>NaN</td>\n",
       "      <td>NaN</td>\n",
       "      <td>NaN</td>\n",
       "    </tr>\n",
       "    <tr>\n",
       "      <th>15</th>\n",
       "      <td>15</td>\n",
       "      <td>cow_bite</td>\n",
       "      <td>747419b046c70c69e41b2857b7af91465dcc0c49e0e91c...</td>\n",
       "      <td>28</td>\n",
       "      <td>61</td>\n",
       "      <td>71</td>\n",
       "      <td>80.0</td>\n",
       "      <td>98.0</td>\n",
       "      <td>115.0</td>\n",
       "      <td>124.0</td>\n",
       "      <td>...</td>\n",
       "      <td>NaN</td>\n",
       "      <td>NaN</td>\n",
       "      <td>NaN</td>\n",
       "      <td>NaN</td>\n",
       "      <td>NaN</td>\n",
       "      <td>NaN</td>\n",
       "      <td>NaN</td>\n",
       "      <td>NaN</td>\n",
       "      <td>NaN</td>\n",
       "      <td>NaN</td>\n",
       "    </tr>\n",
       "    <tr>\n",
       "      <th>17</th>\n",
       "      <td>17</td>\n",
       "      <td>cow_bite</td>\n",
       "      <td>2052108669082759e3e4b26bcff213b8a64e09a17d501c...</td>\n",
       "      <td>27</td>\n",
       "      <td>14</td>\n",
       "      <td>20</td>\n",
       "      <td>33.0</td>\n",
       "      <td>43.0</td>\n",
       "      <td>56.0</td>\n",
       "      <td>64.0</td>\n",
       "      <td>...</td>\n",
       "      <td>NaN</td>\n",
       "      <td>NaN</td>\n",
       "      <td>NaN</td>\n",
       "      <td>NaN</td>\n",
       "      <td>NaN</td>\n",
       "      <td>NaN</td>\n",
       "      <td>NaN</td>\n",
       "      <td>NaN</td>\n",
       "      <td>NaN</td>\n",
       "      <td>NaN</td>\n",
       "    </tr>\n",
       "    <tr>\n",
       "      <th>18</th>\n",
       "      <td>18</td>\n",
       "      <td>cow_bite</td>\n",
       "      <td>a84ae1282abc51e5698d2b63472b892cae3ffdabacc66c...</td>\n",
       "      <td>33</td>\n",
       "      <td>0</td>\n",
       "      <td>7</td>\n",
       "      <td>21.0</td>\n",
       "      <td>36.0</td>\n",
       "      <td>46.0</td>\n",
       "      <td>60.0</td>\n",
       "      <td>...</td>\n",
       "      <td>NaN</td>\n",
       "      <td>NaN</td>\n",
       "      <td>NaN</td>\n",
       "      <td>NaN</td>\n",
       "      <td>NaN</td>\n",
       "      <td>NaN</td>\n",
       "      <td>NaN</td>\n",
       "      <td>NaN</td>\n",
       "      <td>NaN</td>\n",
       "      <td>NaN</td>\n",
       "    </tr>\n",
       "    <tr>\n",
       "      <th>21</th>\n",
       "      <td>21</td>\n",
       "      <td>cow_bite</td>\n",
       "      <td>b57a702fc0cade7763d6c30dbdd01970007eb537e18fc7...</td>\n",
       "      <td>59</td>\n",
       "      <td>0</td>\n",
       "      <td>11</td>\n",
       "      <td>33.0</td>\n",
       "      <td>42.0</td>\n",
       "      <td>54.0</td>\n",
       "      <td>70.0</td>\n",
       "      <td>...</td>\n",
       "      <td>NaN</td>\n",
       "      <td>NaN</td>\n",
       "      <td>NaN</td>\n",
       "      <td>NaN</td>\n",
       "      <td>NaN</td>\n",
       "      <td>NaN</td>\n",
       "      <td>NaN</td>\n",
       "      <td>NaN</td>\n",
       "      <td>NaN</td>\n",
       "      <td>NaN</td>\n",
       "    </tr>\n",
       "    <tr>\n",
       "      <th>22</th>\n",
       "      <td>22</td>\n",
       "      <td>cow_bite</td>\n",
       "      <td>cd4bc06caf8ea3015a8af0deaace4d3747268f55194cad...</td>\n",
       "      <td>31</td>\n",
       "      <td>18</td>\n",
       "      <td>26</td>\n",
       "      <td>38.0</td>\n",
       "      <td>48.0</td>\n",
       "      <td>59.0</td>\n",
       "      <td>70.0</td>\n",
       "      <td>...</td>\n",
       "      <td>NaN</td>\n",
       "      <td>NaN</td>\n",
       "      <td>NaN</td>\n",
       "      <td>NaN</td>\n",
       "      <td>NaN</td>\n",
       "      <td>NaN</td>\n",
       "      <td>NaN</td>\n",
       "      <td>NaN</td>\n",
       "      <td>NaN</td>\n",
       "      <td>NaN</td>\n",
       "    </tr>\n",
       "    <tr>\n",
       "      <th>24</th>\n",
       "      <td>24</td>\n",
       "      <td>cow_bite</td>\n",
       "      <td>e151c20b878c4425ce832d2f5120a218f4e31b765ec2a3...</td>\n",
       "      <td>52</td>\n",
       "      <td>10</td>\n",
       "      <td>26</td>\n",
       "      <td>35.0</td>\n",
       "      <td>49.0</td>\n",
       "      <td>66.0</td>\n",
       "      <td>75.0</td>\n",
       "      <td>...</td>\n",
       "      <td>NaN</td>\n",
       "      <td>NaN</td>\n",
       "      <td>NaN</td>\n",
       "      <td>NaN</td>\n",
       "      <td>NaN</td>\n",
       "      <td>NaN</td>\n",
       "      <td>NaN</td>\n",
       "      <td>NaN</td>\n",
       "      <td>NaN</td>\n",
       "      <td>NaN</td>\n",
       "    </tr>\n",
       "    <tr>\n",
       "      <th>29</th>\n",
       "      <td>29</td>\n",
       "      <td>cow_bite</td>\n",
       "      <td>4a639247a4b687c6ae226f986414241864b4174f8e3019...</td>\n",
       "      <td>38</td>\n",
       "      <td>9</td>\n",
       "      <td>20</td>\n",
       "      <td>33.0</td>\n",
       "      <td>43.0</td>\n",
       "      <td>55.0</td>\n",
       "      <td>63.0</td>\n",
       "      <td>...</td>\n",
       "      <td>NaN</td>\n",
       "      <td>NaN</td>\n",
       "      <td>NaN</td>\n",
       "      <td>NaN</td>\n",
       "      <td>NaN</td>\n",
       "      <td>NaN</td>\n",
       "      <td>NaN</td>\n",
       "      <td>NaN</td>\n",
       "      <td>NaN</td>\n",
       "      <td>NaN</td>\n",
       "    </tr>\n",
       "    <tr>\n",
       "      <th>30</th>\n",
       "      <td>30</td>\n",
       "      <td>cow_bite</td>\n",
       "      <td>4fc0428ba0f9882718fb5d7e4196369d2af69c153d42de...</td>\n",
       "      <td>36</td>\n",
       "      <td>50</td>\n",
       "      <td>70</td>\n",
       "      <td>85.0</td>\n",
       "      <td>98.0</td>\n",
       "      <td>109.0</td>\n",
       "      <td>123.0</td>\n",
       "      <td>...</td>\n",
       "      <td>NaN</td>\n",
       "      <td>NaN</td>\n",
       "      <td>NaN</td>\n",
       "      <td>NaN</td>\n",
       "      <td>NaN</td>\n",
       "      <td>NaN</td>\n",
       "      <td>NaN</td>\n",
       "      <td>NaN</td>\n",
       "      <td>NaN</td>\n",
       "      <td>NaN</td>\n",
       "    </tr>\n",
       "    <tr>\n",
       "      <th>31</th>\n",
       "      <td>31</td>\n",
       "      <td>cow_bite</td>\n",
       "      <td>4ff8a74c52c529eceb817a1d89e76a3ae053583c2abc49...</td>\n",
       "      <td>33</td>\n",
       "      <td>8</td>\n",
       "      <td>21</td>\n",
       "      <td>37.0</td>\n",
       "      <td>46.0</td>\n",
       "      <td>58.0</td>\n",
       "      <td>72.0</td>\n",
       "      <td>...</td>\n",
       "      <td>NaN</td>\n",
       "      <td>NaN</td>\n",
       "      <td>NaN</td>\n",
       "      <td>NaN</td>\n",
       "      <td>NaN</td>\n",
       "      <td>NaN</td>\n",
       "      <td>NaN</td>\n",
       "      <td>NaN</td>\n",
       "      <td>NaN</td>\n",
       "      <td>NaN</td>\n",
       "    </tr>\n",
       "    <tr>\n",
       "      <th>33</th>\n",
       "      <td>33</td>\n",
       "      <td>cow_bite</td>\n",
       "      <td>8f609871c33a11835defd4b9a79a6b30ee4f311d86cc4f...</td>\n",
       "      <td>26</td>\n",
       "      <td>0</td>\n",
       "      <td>16</td>\n",
       "      <td>31.0</td>\n",
       "      <td>43.0</td>\n",
       "      <td>54.0</td>\n",
       "      <td>71.0</td>\n",
       "      <td>...</td>\n",
       "      <td>NaN</td>\n",
       "      <td>NaN</td>\n",
       "      <td>NaN</td>\n",
       "      <td>NaN</td>\n",
       "      <td>NaN</td>\n",
       "      <td>NaN</td>\n",
       "      <td>NaN</td>\n",
       "      <td>NaN</td>\n",
       "      <td>NaN</td>\n",
       "      <td>NaN</td>\n",
       "    </tr>\n",
       "    <tr>\n",
       "      <th>36</th>\n",
       "      <td>36</td>\n",
       "      <td>cow_bite</td>\n",
       "      <td>9f06f158766658820031cf3f32a755a1403bcbcb696ce9...</td>\n",
       "      <td>30</td>\n",
       "      <td>0</td>\n",
       "      <td>6</td>\n",
       "      <td>23.0</td>\n",
       "      <td>34.0</td>\n",
       "      <td>55.0</td>\n",
       "      <td>66.0</td>\n",
       "      <td>...</td>\n",
       "      <td>NaN</td>\n",
       "      <td>NaN</td>\n",
       "      <td>NaN</td>\n",
       "      <td>NaN</td>\n",
       "      <td>NaN</td>\n",
       "      <td>NaN</td>\n",
       "      <td>NaN</td>\n",
       "      <td>NaN</td>\n",
       "      <td>NaN</td>\n",
       "      <td>NaN</td>\n",
       "    </tr>\n",
       "    <tr>\n",
       "      <th>39</th>\n",
       "      <td>39</td>\n",
       "      <td>cow_bite</td>\n",
       "      <td>85ff8081163fa72a539d5215af9e01f86a078178bd0b2f...</td>\n",
       "      <td>43</td>\n",
       "      <td>0</td>\n",
       "      <td>10</td>\n",
       "      <td>20.0</td>\n",
       "      <td>26.0</td>\n",
       "      <td>36.0</td>\n",
       "      <td>43.0</td>\n",
       "      <td>...</td>\n",
       "      <td>NaN</td>\n",
       "      <td>NaN</td>\n",
       "      <td>NaN</td>\n",
       "      <td>NaN</td>\n",
       "      <td>NaN</td>\n",
       "      <td>NaN</td>\n",
       "      <td>NaN</td>\n",
       "      <td>NaN</td>\n",
       "      <td>NaN</td>\n",
       "      <td>NaN</td>\n",
       "    </tr>\n",
       "    <tr>\n",
       "      <th>41</th>\n",
       "      <td>41</td>\n",
       "      <td>cow_bite</td>\n",
       "      <td>743a064e5f68f7acd214bbf9df289c9d6fa16e4f851e32...</td>\n",
       "      <td>27</td>\n",
       "      <td>12</td>\n",
       "      <td>21</td>\n",
       "      <td>33.0</td>\n",
       "      <td>42.0</td>\n",
       "      <td>52.0</td>\n",
       "      <td>60.0</td>\n",
       "      <td>...</td>\n",
       "      <td>NaN</td>\n",
       "      <td>NaN</td>\n",
       "      <td>NaN</td>\n",
       "      <td>NaN</td>\n",
       "      <td>NaN</td>\n",
       "      <td>NaN</td>\n",
       "      <td>NaN</td>\n",
       "      <td>NaN</td>\n",
       "      <td>NaN</td>\n",
       "      <td>NaN</td>\n",
       "    </tr>\n",
       "    <tr>\n",
       "      <th>43</th>\n",
       "      <td>43</td>\n",
       "      <td>cow_bite</td>\n",
       "      <td>95040dc15ce9ada82353103a13d1b395c937a9ea674715...</td>\n",
       "      <td>68</td>\n",
       "      <td>22</td>\n",
       "      <td>29</td>\n",
       "      <td>44.0</td>\n",
       "      <td>51.0</td>\n",
       "      <td>64.0</td>\n",
       "      <td>71.0</td>\n",
       "      <td>...</td>\n",
       "      <td>1186.0</td>\n",
       "      <td>1192.0</td>\n",
       "      <td>1203.0</td>\n",
       "      <td>1208.0</td>\n",
       "      <td>1221.0</td>\n",
       "      <td>1225.0</td>\n",
       "      <td>1236.0</td>\n",
       "      <td>1243.0</td>\n",
       "      <td>1252.0</td>\n",
       "      <td>1260.0</td>\n",
       "    </tr>\n",
       "    <tr>\n",
       "      <th>50</th>\n",
       "      <td>50</td>\n",
       "      <td>cow_bite</td>\n",
       "      <td>d40739c2aa4b801a2eda2bbb8a554a6ff85e3fc331b719...</td>\n",
       "      <td>34</td>\n",
       "      <td>5</td>\n",
       "      <td>10</td>\n",
       "      <td>17.0</td>\n",
       "      <td>23.0</td>\n",
       "      <td>31.0</td>\n",
       "      <td>36.0</td>\n",
       "      <td>...</td>\n",
       "      <td>NaN</td>\n",
       "      <td>NaN</td>\n",
       "      <td>NaN</td>\n",
       "      <td>NaN</td>\n",
       "      <td>NaN</td>\n",
       "      <td>NaN</td>\n",
       "      <td>NaN</td>\n",
       "      <td>NaN</td>\n",
       "      <td>NaN</td>\n",
       "      <td>NaN</td>\n",
       "    </tr>\n",
       "  </tbody>\n",
       "</table>\n",
       "<p>22 rows × 140 columns</p>\n",
       "</div>"
      ],
      "text/plain": [
       "    Unnamed: 0      type                                               name  \\\n",
       "1            1  cow_bite  2f4338b600baddf8b021162744427b9faaf7ec28230638...   \n",
       "2            2  cow_bite  3c86acfbc4289cc6d83adc3268a97e3eb2ecf1316d731b...   \n",
       "5            5  cow_bite  10f1a9b90589c2bc657320dc4958fb19ea2d51fbcdb251...   \n",
       "6            6  cow_bite  14ac6845ecc16c132aa2ecc75f5619c36d603e5f5e9021...   \n",
       "7            7  cow_bite  37c993d16e39c7a06469d11edce24326323c489f75de5d...   \n",
       "9            9  cow_bite  54d5f63b8d886c2519a1eb5b4a19b409a919c0b94ac345...   \n",
       "11          11  cow_bite  284d9ee203882c3bcc2dff888d49ba6ea4da8fbd943e8e...   \n",
       "15          15  cow_bite  747419b046c70c69e41b2857b7af91465dcc0c49e0e91c...   \n",
       "17          17  cow_bite  2052108669082759e3e4b26bcff213b8a64e09a17d501c...   \n",
       "18          18  cow_bite  a84ae1282abc51e5698d2b63472b892cae3ffdabacc66c...   \n",
       "21          21  cow_bite  b57a702fc0cade7763d6c30dbdd01970007eb537e18fc7...   \n",
       "22          22  cow_bite  cd4bc06caf8ea3015a8af0deaace4d3747268f55194cad...   \n",
       "24          24  cow_bite  e151c20b878c4425ce832d2f5120a218f4e31b765ec2a3...   \n",
       "29          29  cow_bite  4a639247a4b687c6ae226f986414241864b4174f8e3019...   \n",
       "30          30  cow_bite  4fc0428ba0f9882718fb5d7e4196369d2af69c153d42de...   \n",
       "31          31  cow_bite  4ff8a74c52c529eceb817a1d89e76a3ae053583c2abc49...   \n",
       "33          33  cow_bite  8f609871c33a11835defd4b9a79a6b30ee4f311d86cc4f...   \n",
       "36          36  cow_bite  9f06f158766658820031cf3f32a755a1403bcbcb696ce9...   \n",
       "39          39  cow_bite  85ff8081163fa72a539d5215af9e01f86a078178bd0b2f...   \n",
       "41          41  cow_bite  743a064e5f68f7acd214bbf9df289c9d6fa16e4f851e32...   \n",
       "43          43  cow_bite  95040dc15ce9ada82353103a13d1b395c937a9ea674715...   \n",
       "50          50  cow_bite  d40739c2aa4b801a2eda2bbb8a554a6ff85e3fc331b719...   \n",
       "\n",
       "    count  L1  L2    L3    L4     L5     L6  ...    L127    L128    L129  \\\n",
       "1      29   1  10  21.0  28.0   40.0   47.0  ...     NaN     NaN     NaN   \n",
       "2      34  14  23  36.0  47.0   60.0   69.0  ...     NaN     NaN     NaN   \n",
       "5      50  22  29  47.0  53.0   72.0   81.0  ...     NaN     NaN     NaN   \n",
       "6      41   8  14  20.0  27.0   35.0   39.0  ...     NaN     NaN     NaN   \n",
       "7      42  26  32  45.0  54.0   69.0   77.0  ...     NaN     NaN     NaN   \n",
       "9      33  27  36  49.0  57.0   70.0   78.0  ...     NaN     NaN     NaN   \n",
       "11     27  14  23  37.0  49.0   60.0   75.0  ...     NaN     NaN     NaN   \n",
       "15     28  61  71  80.0  98.0  115.0  124.0  ...     NaN     NaN     NaN   \n",
       "17     27  14  20  33.0  43.0   56.0   64.0  ...     NaN     NaN     NaN   \n",
       "18     33   0   7  21.0  36.0   46.0   60.0  ...     NaN     NaN     NaN   \n",
       "21     59   0  11  33.0  42.0   54.0   70.0  ...     NaN     NaN     NaN   \n",
       "22     31  18  26  38.0  48.0   59.0   70.0  ...     NaN     NaN     NaN   \n",
       "24     52  10  26  35.0  49.0   66.0   75.0  ...     NaN     NaN     NaN   \n",
       "29     38   9  20  33.0  43.0   55.0   63.0  ...     NaN     NaN     NaN   \n",
       "30     36  50  70  85.0  98.0  109.0  123.0  ...     NaN     NaN     NaN   \n",
       "31     33   8  21  37.0  46.0   58.0   72.0  ...     NaN     NaN     NaN   \n",
       "33     26   0  16  31.0  43.0   54.0   71.0  ...     NaN     NaN     NaN   \n",
       "36     30   0   6  23.0  34.0   55.0   66.0  ...     NaN     NaN     NaN   \n",
       "39     43   0  10  20.0  26.0   36.0   43.0  ...     NaN     NaN     NaN   \n",
       "41     27  12  21  33.0  42.0   52.0   60.0  ...     NaN     NaN     NaN   \n",
       "43     68  22  29  44.0  51.0   64.0   71.0  ...  1186.0  1192.0  1203.0   \n",
       "50     34   5  10  17.0  23.0   31.0   36.0  ...     NaN     NaN     NaN   \n",
       "\n",
       "      L130    L131    L132    L133    L134    L135    L136  \n",
       "1      NaN     NaN     NaN     NaN     NaN     NaN     NaN  \n",
       "2      NaN     NaN     NaN     NaN     NaN     NaN     NaN  \n",
       "5      NaN     NaN     NaN     NaN     NaN     NaN     NaN  \n",
       "6      NaN     NaN     NaN     NaN     NaN     NaN     NaN  \n",
       "7      NaN     NaN     NaN     NaN     NaN     NaN     NaN  \n",
       "9      NaN     NaN     NaN     NaN     NaN     NaN     NaN  \n",
       "11     NaN     NaN     NaN     NaN     NaN     NaN     NaN  \n",
       "15     NaN     NaN     NaN     NaN     NaN     NaN     NaN  \n",
       "17     NaN     NaN     NaN     NaN     NaN     NaN     NaN  \n",
       "18     NaN     NaN     NaN     NaN     NaN     NaN     NaN  \n",
       "21     NaN     NaN     NaN     NaN     NaN     NaN     NaN  \n",
       "22     NaN     NaN     NaN     NaN     NaN     NaN     NaN  \n",
       "24     NaN     NaN     NaN     NaN     NaN     NaN     NaN  \n",
       "29     NaN     NaN     NaN     NaN     NaN     NaN     NaN  \n",
       "30     NaN     NaN     NaN     NaN     NaN     NaN     NaN  \n",
       "31     NaN     NaN     NaN     NaN     NaN     NaN     NaN  \n",
       "33     NaN     NaN     NaN     NaN     NaN     NaN     NaN  \n",
       "36     NaN     NaN     NaN     NaN     NaN     NaN     NaN  \n",
       "39     NaN     NaN     NaN     NaN     NaN     NaN     NaN  \n",
       "41     NaN     NaN     NaN     NaN     NaN     NaN     NaN  \n",
       "43  1208.0  1221.0  1225.0  1236.0  1243.0  1252.0  1260.0  \n",
       "50     NaN     NaN     NaN     NaN     NaN     NaN     NaN  \n",
       "\n",
       "[22 rows x 140 columns]"
      ]
     },
     "execution_count": 37,
     "metadata": {},
     "output_type": "execute_result"
    }
   ],
   "source": [
    "df_filtered"
   ]
  },
  {
   "cell_type": "code",
   "execution_count": 38,
   "id": "bc0bdda2",
   "metadata": {},
   "outputs": [],
   "source": [
    "# Initialize an empty DataFrame to store the results\n",
    "new_df = df[df['count'] <= 25]"
   ]
  },
  {
   "cell_type": "code",
   "execution_count": 39,
   "id": "5101761d",
   "metadata": {
    "scrolled": true
   },
   "outputs": [
    {
     "name": "stdout",
     "output_type": "stream",
     "text": [
      "Moviepy - Building video ./all/2f4338b600baddf8b021162744427b9faaf7ec28230638ceeffadbfafd86ba44_part_0.mp4.\n",
      "Moviepy - Writing video ./all/2f4338b600baddf8b021162744427b9faaf7ec28230638ceeffadbfafd86ba44_part_0.mp4\n",
      "\n"
     ]
    },
    {
     "name": "stderr",
     "output_type": "stream",
     "text": [
      "                                                                                                                                           \r"
     ]
    },
    {
     "name": "stdout",
     "output_type": "stream",
     "text": [
      "Moviepy - Done !\n",
      "Moviepy - video ready ./all/2f4338b600baddf8b021162744427b9faaf7ec28230638ceeffadbfafd86ba44_part_0.mp4\n",
      "Moviepy - Building video ./all/2f4338b600baddf8b021162744427b9faaf7ec28230638ceeffadbfafd86ba44_part_1.mp4.\n",
      "Moviepy - Writing video ./all/2f4338b600baddf8b021162744427b9faaf7ec28230638ceeffadbfafd86ba44_part_1.mp4\n",
      "\n"
     ]
    },
    {
     "name": "stderr",
     "output_type": "stream",
     "text": [
      "                                                                                                                                           \r"
     ]
    },
    {
     "name": "stdout",
     "output_type": "stream",
     "text": [
      "Moviepy - Done !\n",
      "Moviepy - video ready ./all/2f4338b600baddf8b021162744427b9faaf7ec28230638ceeffadbfafd86ba44_part_1.mp4\n",
      "Moviepy - Building video ./all/3c86acfbc4289cc6d83adc3268a97e3eb2ecf1316d731b487627190a1e4ac88f_part_0.mp4.\n",
      "Moviepy - Writing video ./all/3c86acfbc4289cc6d83adc3268a97e3eb2ecf1316d731b487627190a1e4ac88f_part_0.mp4\n",
      "\n"
     ]
    },
    {
     "name": "stderr",
     "output_type": "stream",
     "text": [
      "                                                                                                                                           \r"
     ]
    },
    {
     "name": "stdout",
     "output_type": "stream",
     "text": [
      "Moviepy - Done !\n",
      "Moviepy - video ready ./all/3c86acfbc4289cc6d83adc3268a97e3eb2ecf1316d731b487627190a1e4ac88f_part_0.mp4\n",
      "Moviepy - Building video ./all/3c86acfbc4289cc6d83adc3268a97e3eb2ecf1316d731b487627190a1e4ac88f_part_1.mp4.\n",
      "Moviepy - Writing video ./all/3c86acfbc4289cc6d83adc3268a97e3eb2ecf1316d731b487627190a1e4ac88f_part_1.mp4\n",
      "\n"
     ]
    },
    {
     "name": "stderr",
     "output_type": "stream",
     "text": [
      "                                                                                                                                           \r"
     ]
    },
    {
     "name": "stdout",
     "output_type": "stream",
     "text": [
      "Moviepy - Done !\n",
      "Moviepy - video ready ./all/3c86acfbc4289cc6d83adc3268a97e3eb2ecf1316d731b487627190a1e4ac88f_part_1.mp4\n",
      "Moviepy - Building video ./all/10f1a9b90589c2bc657320dc4958fb19ea2d51fbcdb251402e6112e4407de2e7_part_0.mp4.\n",
      "MoviePy - Writing audio in 10f1a9b90589c2bc657320dc4958fb19ea2d51fbcdb251402e6112e4407de2e7_part_0TEMP_MPY_wvf_snd.mp3\n"
     ]
    },
    {
     "name": "stderr",
     "output_type": "stream",
     "text": [
      "                                                                                                                                           \r"
     ]
    },
    {
     "name": "stdout",
     "output_type": "stream",
     "text": [
      "MoviePy - Done.\n",
      "Moviepy - Writing video ./all/10f1a9b90589c2bc657320dc4958fb19ea2d51fbcdb251402e6112e4407de2e7_part_0.mp4\n",
      "\n"
     ]
    },
    {
     "name": "stderr",
     "output_type": "stream",
     "text": [
      "                                                                                                                                           \r"
     ]
    },
    {
     "name": "stdout",
     "output_type": "stream",
     "text": [
      "Moviepy - Done !\n",
      "Moviepy - video ready ./all/10f1a9b90589c2bc657320dc4958fb19ea2d51fbcdb251402e6112e4407de2e7_part_0.mp4\n",
      "Moviepy - Building video ./all/10f1a9b90589c2bc657320dc4958fb19ea2d51fbcdb251402e6112e4407de2e7_part_1.mp4.\n",
      "MoviePy - Writing audio in 10f1a9b90589c2bc657320dc4958fb19ea2d51fbcdb251402e6112e4407de2e7_part_1TEMP_MPY_wvf_snd.mp3\n"
     ]
    },
    {
     "name": "stderr",
     "output_type": "stream",
     "text": [
      "                                                                                                                                           \r"
     ]
    },
    {
     "name": "stdout",
     "output_type": "stream",
     "text": [
      "MoviePy - Done.\n",
      "Moviepy - Writing video ./all/10f1a9b90589c2bc657320dc4958fb19ea2d51fbcdb251402e6112e4407de2e7_part_1.mp4\n",
      "\n"
     ]
    },
    {
     "name": "stderr",
     "output_type": "stream",
     "text": [
      "                                                                                                                                           \r"
     ]
    },
    {
     "name": "stdout",
     "output_type": "stream",
     "text": [
      "Moviepy - Done !\n",
      "Moviepy - video ready ./all/10f1a9b90589c2bc657320dc4958fb19ea2d51fbcdb251402e6112e4407de2e7_part_1.mp4\n",
      "Moviepy - Building video ./all/14ac6845ecc16c132aa2ecc75f5619c36d603e5f5e9021a3502fabde86a4363f_part_0.mp4.\n",
      "MoviePy - Writing audio in 14ac6845ecc16c132aa2ecc75f5619c36d603e5f5e9021a3502fabde86a4363f_part_0TEMP_MPY_wvf_snd.mp3\n"
     ]
    },
    {
     "name": "stderr",
     "output_type": "stream",
     "text": [
      "                                                                                                                                           \r"
     ]
    },
    {
     "name": "stdout",
     "output_type": "stream",
     "text": [
      "MoviePy - Done.\n",
      "Moviepy - Writing video ./all/14ac6845ecc16c132aa2ecc75f5619c36d603e5f5e9021a3502fabde86a4363f_part_0.mp4\n",
      "\n"
     ]
    },
    {
     "name": "stderr",
     "output_type": "stream",
     "text": [
      "                                                                                                                                           \r"
     ]
    },
    {
     "name": "stdout",
     "output_type": "stream",
     "text": [
      "Moviepy - Done !\n",
      "Moviepy - video ready ./all/14ac6845ecc16c132aa2ecc75f5619c36d603e5f5e9021a3502fabde86a4363f_part_0.mp4\n",
      "Moviepy - Building video ./all/14ac6845ecc16c132aa2ecc75f5619c36d603e5f5e9021a3502fabde86a4363f_part_1.mp4.\n",
      "MoviePy - Writing audio in 14ac6845ecc16c132aa2ecc75f5619c36d603e5f5e9021a3502fabde86a4363f_part_1TEMP_MPY_wvf_snd.mp3\n"
     ]
    },
    {
     "name": "stderr",
     "output_type": "stream",
     "text": [
      "                                                                                                                                           \r"
     ]
    },
    {
     "name": "stdout",
     "output_type": "stream",
     "text": [
      "MoviePy - Done.\n",
      "Moviepy - Writing video ./all/14ac6845ecc16c132aa2ecc75f5619c36d603e5f5e9021a3502fabde86a4363f_part_1.mp4\n",
      "\n"
     ]
    },
    {
     "name": "stderr",
     "output_type": "stream",
     "text": [
      "                                                                                                                                           \r"
     ]
    },
    {
     "name": "stdout",
     "output_type": "stream",
     "text": [
      "Moviepy - Done !\n",
      "Moviepy - video ready ./all/14ac6845ecc16c132aa2ecc75f5619c36d603e5f5e9021a3502fabde86a4363f_part_1.mp4\n",
      "Moviepy - Building video ./all/37c993d16e39c7a06469d11edce24326323c489f75de5dcd0c73eba86d9eb942_part_0.mp4.\n",
      "MoviePy - Writing audio in 37c993d16e39c7a06469d11edce24326323c489f75de5dcd0c73eba86d9eb942_part_0TEMP_MPY_wvf_snd.mp3\n"
     ]
    },
    {
     "name": "stderr",
     "output_type": "stream",
     "text": [
      "                                                                                                                                           \r"
     ]
    },
    {
     "name": "stdout",
     "output_type": "stream",
     "text": [
      "MoviePy - Done.\n",
      "Moviepy - Writing video ./all/37c993d16e39c7a06469d11edce24326323c489f75de5dcd0c73eba86d9eb942_part_0.mp4\n",
      "\n"
     ]
    },
    {
     "name": "stderr",
     "output_type": "stream",
     "text": [
      "                                                                                                                                           \r"
     ]
    },
    {
     "name": "stdout",
     "output_type": "stream",
     "text": [
      "Moviepy - Done !\n",
      "Moviepy - video ready ./all/37c993d16e39c7a06469d11edce24326323c489f75de5dcd0c73eba86d9eb942_part_0.mp4\n",
      "Moviepy - Building video ./all/37c993d16e39c7a06469d11edce24326323c489f75de5dcd0c73eba86d9eb942_part_1.mp4.\n",
      "MoviePy - Writing audio in 37c993d16e39c7a06469d11edce24326323c489f75de5dcd0c73eba86d9eb942_part_1TEMP_MPY_wvf_snd.mp3\n"
     ]
    },
    {
     "name": "stderr",
     "output_type": "stream",
     "text": [
      "                                                                                                                                           \r"
     ]
    },
    {
     "name": "stdout",
     "output_type": "stream",
     "text": [
      "MoviePy - Done.\n",
      "Moviepy - Writing video ./all/37c993d16e39c7a06469d11edce24326323c489f75de5dcd0c73eba86d9eb942_part_1.mp4\n",
      "\n"
     ]
    },
    {
     "name": "stderr",
     "output_type": "stream",
     "text": [
      "                                                                                                                                           \r"
     ]
    },
    {
     "name": "stdout",
     "output_type": "stream",
     "text": [
      "Moviepy - Done !\n",
      "Moviepy - video ready ./all/37c993d16e39c7a06469d11edce24326323c489f75de5dcd0c73eba86d9eb942_part_1.mp4\n",
      "Moviepy - Building video ./all/54d5f63b8d886c2519a1eb5b4a19b409a919c0b94ac345062e8014f08487fdd4_part_0.mp4.\n",
      "Moviepy - Writing video ./all/54d5f63b8d886c2519a1eb5b4a19b409a919c0b94ac345062e8014f08487fdd4_part_0.mp4\n",
      "\n"
     ]
    },
    {
     "name": "stderr",
     "output_type": "stream",
     "text": [
      "                                                                                                                                           \r"
     ]
    },
    {
     "name": "stdout",
     "output_type": "stream",
     "text": [
      "Moviepy - Done !\n",
      "Moviepy - video ready ./all/54d5f63b8d886c2519a1eb5b4a19b409a919c0b94ac345062e8014f08487fdd4_part_0.mp4\n",
      "Moviepy - Building video ./all/54d5f63b8d886c2519a1eb5b4a19b409a919c0b94ac345062e8014f08487fdd4_part_1.mp4.\n",
      "Moviepy - Writing video ./all/54d5f63b8d886c2519a1eb5b4a19b409a919c0b94ac345062e8014f08487fdd4_part_1.mp4\n",
      "\n"
     ]
    },
    {
     "name": "stderr",
     "output_type": "stream",
     "text": [
      "                                                                                                                                           \r"
     ]
    },
    {
     "name": "stdout",
     "output_type": "stream",
     "text": [
      "Moviepy - Done !\n",
      "Moviepy - video ready ./all/54d5f63b8d886c2519a1eb5b4a19b409a919c0b94ac345062e8014f08487fdd4_part_1.mp4\n",
      "Moviepy - Building video ./all/284d9ee203882c3bcc2dff888d49ba6ea4da8fbd943e8eab4ff2dc54ae719e55_part_0.mp4.\n",
      "Moviepy - Writing video ./all/284d9ee203882c3bcc2dff888d49ba6ea4da8fbd943e8eab4ff2dc54ae719e55_part_0.mp4\n",
      "\n"
     ]
    },
    {
     "name": "stderr",
     "output_type": "stream",
     "text": [
      "                                                                                                                                           \r"
     ]
    },
    {
     "name": "stdout",
     "output_type": "stream",
     "text": [
      "Moviepy - Done !\n",
      "Moviepy - video ready ./all/284d9ee203882c3bcc2dff888d49ba6ea4da8fbd943e8eab4ff2dc54ae719e55_part_0.mp4\n",
      "Moviepy - Building video ./all/284d9ee203882c3bcc2dff888d49ba6ea4da8fbd943e8eab4ff2dc54ae719e55_part_1.mp4.\n",
      "Moviepy - Writing video ./all/284d9ee203882c3bcc2dff888d49ba6ea4da8fbd943e8eab4ff2dc54ae719e55_part_1.mp4\n",
      "\n"
     ]
    },
    {
     "name": "stderr",
     "output_type": "stream",
     "text": [
      "                                                                                                                                           \r"
     ]
    },
    {
     "name": "stdout",
     "output_type": "stream",
     "text": [
      "Moviepy - Done !\n",
      "Moviepy - video ready ./all/284d9ee203882c3bcc2dff888d49ba6ea4da8fbd943e8eab4ff2dc54ae719e55_part_1.mp4\n",
      "Moviepy - Building video ./all/747419b046c70c69e41b2857b7af91465dcc0c49e0e91ca96f253da03067dd32_part_0.mp4.\n",
      "Moviepy - Writing video ./all/747419b046c70c69e41b2857b7af91465dcc0c49e0e91ca96f253da03067dd32_part_0.mp4\n",
      "\n"
     ]
    },
    {
     "name": "stderr",
     "output_type": "stream",
     "text": [
      "                                                                                                                                           \r"
     ]
    },
    {
     "name": "stdout",
     "output_type": "stream",
     "text": [
      "Moviepy - Done !\n",
      "Moviepy - video ready ./all/747419b046c70c69e41b2857b7af91465dcc0c49e0e91ca96f253da03067dd32_part_0.mp4\n",
      "Moviepy - Building video ./all/747419b046c70c69e41b2857b7af91465dcc0c49e0e91ca96f253da03067dd32_part_1.mp4.\n",
      "Moviepy - Writing video ./all/747419b046c70c69e41b2857b7af91465dcc0c49e0e91ca96f253da03067dd32_part_1.mp4\n",
      "\n"
     ]
    },
    {
     "name": "stderr",
     "output_type": "stream",
     "text": [
      "                                                                                                                                           \r"
     ]
    },
    {
     "name": "stdout",
     "output_type": "stream",
     "text": [
      "Moviepy - Done !\n",
      "Moviepy - video ready ./all/747419b046c70c69e41b2857b7af91465dcc0c49e0e91ca96f253da03067dd32_part_1.mp4\n",
      "Moviepy - Building video ./all/2052108669082759e3e4b26bcff213b8a64e09a17d501ccb06bb477b4706323e_part_0.mp4.\n",
      "Moviepy - Writing video ./all/2052108669082759e3e4b26bcff213b8a64e09a17d501ccb06bb477b4706323e_part_0.mp4\n",
      "\n"
     ]
    },
    {
     "name": "stderr",
     "output_type": "stream",
     "text": [
      "                                                                                                                                           \r"
     ]
    },
    {
     "name": "stdout",
     "output_type": "stream",
     "text": [
      "Moviepy - Done !\n",
      "Moviepy - video ready ./all/2052108669082759e3e4b26bcff213b8a64e09a17d501ccb06bb477b4706323e_part_0.mp4\n",
      "Moviepy - Building video ./all/2052108669082759e3e4b26bcff213b8a64e09a17d501ccb06bb477b4706323e_part_1.mp4.\n",
      "Moviepy - Writing video ./all/2052108669082759e3e4b26bcff213b8a64e09a17d501ccb06bb477b4706323e_part_1.mp4\n",
      "\n"
     ]
    },
    {
     "name": "stderr",
     "output_type": "stream",
     "text": [
      "                                                                                                                                           \r"
     ]
    },
    {
     "name": "stdout",
     "output_type": "stream",
     "text": [
      "Moviepy - Done !\n",
      "Moviepy - video ready ./all/2052108669082759e3e4b26bcff213b8a64e09a17d501ccb06bb477b4706323e_part_1.mp4\n",
      "Moviepy - Building video ./all/a84ae1282abc51e5698d2b63472b892cae3ffdabacc66c9bcf1efabdf637b1e5_part_0.mp4.\n",
      "Moviepy - Writing video ./all/a84ae1282abc51e5698d2b63472b892cae3ffdabacc66c9bcf1efabdf637b1e5_part_0.mp4\n",
      "\n"
     ]
    },
    {
     "name": "stderr",
     "output_type": "stream",
     "text": [
      "                                                                                                                                           \r"
     ]
    },
    {
     "name": "stdout",
     "output_type": "stream",
     "text": [
      "Moviepy - Done !\n",
      "Moviepy - video ready ./all/a84ae1282abc51e5698d2b63472b892cae3ffdabacc66c9bcf1efabdf637b1e5_part_0.mp4\n",
      "Moviepy - Building video ./all/a84ae1282abc51e5698d2b63472b892cae3ffdabacc66c9bcf1efabdf637b1e5_part_1.mp4.\n",
      "Moviepy - Writing video ./all/a84ae1282abc51e5698d2b63472b892cae3ffdabacc66c9bcf1efabdf637b1e5_part_1.mp4\n",
      "\n"
     ]
    },
    {
     "name": "stderr",
     "output_type": "stream",
     "text": [
      "                                                                                                                                           \r"
     ]
    },
    {
     "name": "stdout",
     "output_type": "stream",
     "text": [
      "Moviepy - Done !\n",
      "Moviepy - video ready ./all/a84ae1282abc51e5698d2b63472b892cae3ffdabacc66c9bcf1efabdf637b1e5_part_1.mp4\n",
      "Moviepy - Building video ./all/b57a702fc0cade7763d6c30dbdd01970007eb537e18fc759f2e55132075d36db_part_0.mp4.\n",
      "MoviePy - Writing audio in b57a702fc0cade7763d6c30dbdd01970007eb537e18fc759f2e55132075d36db_part_0TEMP_MPY_wvf_snd.mp3\n"
     ]
    },
    {
     "name": "stderr",
     "output_type": "stream",
     "text": [
      "                                                                                                                                           \r"
     ]
    },
    {
     "name": "stdout",
     "output_type": "stream",
     "text": [
      "MoviePy - Done.\n",
      "Moviepy - Writing video ./all/b57a702fc0cade7763d6c30dbdd01970007eb537e18fc759f2e55132075d36db_part_0.mp4\n",
      "\n"
     ]
    },
    {
     "name": "stderr",
     "output_type": "stream",
     "text": [
      "                                                                                                                                           \r"
     ]
    },
    {
     "name": "stdout",
     "output_type": "stream",
     "text": [
      "Moviepy - Done !\n",
      "Moviepy - video ready ./all/b57a702fc0cade7763d6c30dbdd01970007eb537e18fc759f2e55132075d36db_part_0.mp4\n",
      "Moviepy - Building video ./all/b57a702fc0cade7763d6c30dbdd01970007eb537e18fc759f2e55132075d36db_part_1.mp4.\n",
      "MoviePy - Writing audio in b57a702fc0cade7763d6c30dbdd01970007eb537e18fc759f2e55132075d36db_part_1TEMP_MPY_wvf_snd.mp3\n"
     ]
    },
    {
     "name": "stderr",
     "output_type": "stream",
     "text": [
      "                                                                                                                                           \r"
     ]
    },
    {
     "name": "stdout",
     "output_type": "stream",
     "text": [
      "MoviePy - Done.\n",
      "Moviepy - Writing video ./all/b57a702fc0cade7763d6c30dbdd01970007eb537e18fc759f2e55132075d36db_part_1.mp4\n",
      "\n"
     ]
    },
    {
     "name": "stderr",
     "output_type": "stream",
     "text": [
      "                                                                                                                                           \r"
     ]
    },
    {
     "name": "stdout",
     "output_type": "stream",
     "text": [
      "Moviepy - Done !\n",
      "Moviepy - video ready ./all/b57a702fc0cade7763d6c30dbdd01970007eb537e18fc759f2e55132075d36db_part_1.mp4\n",
      "Moviepy - Building video ./all/b57a702fc0cade7763d6c30dbdd01970007eb537e18fc759f2e55132075d36db_part_2.mp4.\n",
      "MoviePy - Writing audio in b57a702fc0cade7763d6c30dbdd01970007eb537e18fc759f2e55132075d36db_part_2TEMP_MPY_wvf_snd.mp3\n"
     ]
    },
    {
     "name": "stderr",
     "output_type": "stream",
     "text": [
      "                                                                                                                                           \r"
     ]
    },
    {
     "name": "stdout",
     "output_type": "stream",
     "text": [
      "MoviePy - Done.\n",
      "Moviepy - Writing video ./all/b57a702fc0cade7763d6c30dbdd01970007eb537e18fc759f2e55132075d36db_part_2.mp4\n",
      "\n"
     ]
    },
    {
     "name": "stderr",
     "output_type": "stream",
     "text": [
      "                                                                                                                                           \r"
     ]
    },
    {
     "name": "stdout",
     "output_type": "stream",
     "text": [
      "Moviepy - Done !\n",
      "Moviepy - video ready ./all/b57a702fc0cade7763d6c30dbdd01970007eb537e18fc759f2e55132075d36db_part_2.mp4\n",
      "Moviepy - Building video ./all/cd4bc06caf8ea3015a8af0deaace4d3747268f55194cad3992097a5f6dc82b6c_part_0.mp4.\n",
      "Moviepy - Writing video ./all/cd4bc06caf8ea3015a8af0deaace4d3747268f55194cad3992097a5f6dc82b6c_part_0.mp4\n",
      "\n"
     ]
    },
    {
     "name": "stderr",
     "output_type": "stream",
     "text": [
      "                                                                                                                                           \r"
     ]
    },
    {
     "name": "stdout",
     "output_type": "stream",
     "text": [
      "Moviepy - Done !\n",
      "Moviepy - video ready ./all/cd4bc06caf8ea3015a8af0deaace4d3747268f55194cad3992097a5f6dc82b6c_part_0.mp4\n",
      "Moviepy - Building video ./all/cd4bc06caf8ea3015a8af0deaace4d3747268f55194cad3992097a5f6dc82b6c_part_1.mp4.\n",
      "Moviepy - Writing video ./all/cd4bc06caf8ea3015a8af0deaace4d3747268f55194cad3992097a5f6dc82b6c_part_1.mp4\n",
      "\n"
     ]
    },
    {
     "name": "stderr",
     "output_type": "stream",
     "text": [
      "                                                                                                                                           \r"
     ]
    },
    {
     "name": "stdout",
     "output_type": "stream",
     "text": [
      "Moviepy - Done !\n",
      "Moviepy - video ready ./all/cd4bc06caf8ea3015a8af0deaace4d3747268f55194cad3992097a5f6dc82b6c_part_1.mp4\n",
      "Moviepy - Building video ./all/e151c20b878c4425ce832d2f5120a218f4e31b765ec2a352130a5a877fddd041_part_0.mp4.\n",
      "Moviepy - Writing video ./all/e151c20b878c4425ce832d2f5120a218f4e31b765ec2a352130a5a877fddd041_part_0.mp4\n",
      "\n"
     ]
    },
    {
     "name": "stderr",
     "output_type": "stream",
     "text": [
      "                                                                                                                                           \r"
     ]
    },
    {
     "name": "stdout",
     "output_type": "stream",
     "text": [
      "Moviepy - Done !\n",
      "Moviepy - video ready ./all/e151c20b878c4425ce832d2f5120a218f4e31b765ec2a352130a5a877fddd041_part_0.mp4\n",
      "Moviepy - Building video ./all/e151c20b878c4425ce832d2f5120a218f4e31b765ec2a352130a5a877fddd041_part_1.mp4.\n",
      "Moviepy - Writing video ./all/e151c20b878c4425ce832d2f5120a218f4e31b765ec2a352130a5a877fddd041_part_1.mp4\n",
      "\n"
     ]
    },
    {
     "name": "stderr",
     "output_type": "stream",
     "text": [
      "                                                                                                                                           \r"
     ]
    },
    {
     "name": "stdout",
     "output_type": "stream",
     "text": [
      "Moviepy - Done !\n",
      "Moviepy - video ready ./all/e151c20b878c4425ce832d2f5120a218f4e31b765ec2a352130a5a877fddd041_part_1.mp4\n",
      "Moviepy - Building video ./all/e151c20b878c4425ce832d2f5120a218f4e31b765ec2a352130a5a877fddd041_part_2.mp4.\n",
      "Moviepy - Writing video ./all/e151c20b878c4425ce832d2f5120a218f4e31b765ec2a352130a5a877fddd041_part_2.mp4\n",
      "\n"
     ]
    },
    {
     "name": "stderr",
     "output_type": "stream",
     "text": [
      "                                                                                                                                           \r"
     ]
    },
    {
     "name": "stdout",
     "output_type": "stream",
     "text": [
      "Moviepy - Done !\n",
      "Moviepy - video ready ./all/e151c20b878c4425ce832d2f5120a218f4e31b765ec2a352130a5a877fddd041_part_2.mp4\n",
      "Moviepy - Building video ./all/4a639247a4b687c6ae226f986414241864b4174f8e30190b62ad4821e5c3f875_part_0.mp4.\n",
      "Moviepy - Writing video ./all/4a639247a4b687c6ae226f986414241864b4174f8e30190b62ad4821e5c3f875_part_0.mp4\n",
      "\n"
     ]
    },
    {
     "name": "stderr",
     "output_type": "stream",
     "text": [
      "                                                                                                                                           \r"
     ]
    },
    {
     "name": "stdout",
     "output_type": "stream",
     "text": [
      "Moviepy - Done !\n",
      "Moviepy - video ready ./all/4a639247a4b687c6ae226f986414241864b4174f8e30190b62ad4821e5c3f875_part_0.mp4\n",
      "Moviepy - Building video ./all/4a639247a4b687c6ae226f986414241864b4174f8e30190b62ad4821e5c3f875_part_1.mp4.\n",
      "Moviepy - Writing video ./all/4a639247a4b687c6ae226f986414241864b4174f8e30190b62ad4821e5c3f875_part_1.mp4\n",
      "\n"
     ]
    },
    {
     "name": "stderr",
     "output_type": "stream",
     "text": [
      "                                                                                                                                           \r"
     ]
    },
    {
     "name": "stdout",
     "output_type": "stream",
     "text": [
      "Moviepy - Done !\n",
      "Moviepy - video ready ./all/4a639247a4b687c6ae226f986414241864b4174f8e30190b62ad4821e5c3f875_part_1.mp4\n",
      "Moviepy - Building video ./all/4fc0428ba0f9882718fb5d7e4196369d2af69c153d42de9717a25a3919782d80_part_0.mp4.\n",
      "Moviepy - Writing video ./all/4fc0428ba0f9882718fb5d7e4196369d2af69c153d42de9717a25a3919782d80_part_0.mp4\n",
      "\n"
     ]
    },
    {
     "name": "stderr",
     "output_type": "stream",
     "text": [
      "                                                                                                                                           \r"
     ]
    },
    {
     "name": "stdout",
     "output_type": "stream",
     "text": [
      "Moviepy - Done !\n",
      "Moviepy - video ready ./all/4fc0428ba0f9882718fb5d7e4196369d2af69c153d42de9717a25a3919782d80_part_0.mp4\n",
      "Moviepy - Building video ./all/4fc0428ba0f9882718fb5d7e4196369d2af69c153d42de9717a25a3919782d80_part_1.mp4.\n",
      "Moviepy - Writing video ./all/4fc0428ba0f9882718fb5d7e4196369d2af69c153d42de9717a25a3919782d80_part_1.mp4\n",
      "\n"
     ]
    },
    {
     "name": "stderr",
     "output_type": "stream",
     "text": [
      "                                                                                                                                           \r"
     ]
    },
    {
     "name": "stdout",
     "output_type": "stream",
     "text": [
      "Moviepy - Done !\n",
      "Moviepy - video ready ./all/4fc0428ba0f9882718fb5d7e4196369d2af69c153d42de9717a25a3919782d80_part_1.mp4\n",
      "Moviepy - Building video ./all/4ff8a74c52c529eceb817a1d89e76a3ae053583c2abc491ecacbe560484b2e7e_part_0.mp4.\n",
      "Moviepy - Writing video ./all/4ff8a74c52c529eceb817a1d89e76a3ae053583c2abc491ecacbe560484b2e7e_part_0.mp4\n",
      "\n"
     ]
    },
    {
     "name": "stderr",
     "output_type": "stream",
     "text": [
      "                                                                                                                                           \r"
     ]
    },
    {
     "name": "stdout",
     "output_type": "stream",
     "text": [
      "Moviepy - Done !\n",
      "Moviepy - video ready ./all/4ff8a74c52c529eceb817a1d89e76a3ae053583c2abc491ecacbe560484b2e7e_part_0.mp4\n",
      "Moviepy - Building video ./all/4ff8a74c52c529eceb817a1d89e76a3ae053583c2abc491ecacbe560484b2e7e_part_1.mp4.\n",
      "Moviepy - Writing video ./all/4ff8a74c52c529eceb817a1d89e76a3ae053583c2abc491ecacbe560484b2e7e_part_1.mp4\n",
      "\n"
     ]
    },
    {
     "name": "stderr",
     "output_type": "stream",
     "text": [
      "                                                                                                                                           \r"
     ]
    },
    {
     "name": "stdout",
     "output_type": "stream",
     "text": [
      "Moviepy - Done !\n",
      "Moviepy - video ready ./all/4ff8a74c52c529eceb817a1d89e76a3ae053583c2abc491ecacbe560484b2e7e_part_1.mp4\n",
      "Moviepy - Building video ./all/8f609871c33a11835defd4b9a79a6b30ee4f311d86cc4f513f94515c2cf81126_part_0.mp4.\n",
      "Moviepy - Writing video ./all/8f609871c33a11835defd4b9a79a6b30ee4f311d86cc4f513f94515c2cf81126_part_0.mp4\n",
      "\n"
     ]
    },
    {
     "name": "stderr",
     "output_type": "stream",
     "text": [
      "                                                                                                                                           \r"
     ]
    },
    {
     "name": "stdout",
     "output_type": "stream",
     "text": [
      "Moviepy - Done !\n",
      "Moviepy - video ready ./all/8f609871c33a11835defd4b9a79a6b30ee4f311d86cc4f513f94515c2cf81126_part_0.mp4\n",
      "Moviepy - Building video ./all/8f609871c33a11835defd4b9a79a6b30ee4f311d86cc4f513f94515c2cf81126_part_1.mp4.\n",
      "Moviepy - Writing video ./all/8f609871c33a11835defd4b9a79a6b30ee4f311d86cc4f513f94515c2cf81126_part_1.mp4\n",
      "\n"
     ]
    },
    {
     "name": "stderr",
     "output_type": "stream",
     "text": [
      "                                                                                                                                           \r"
     ]
    },
    {
     "name": "stdout",
     "output_type": "stream",
     "text": [
      "Moviepy - Done !\n",
      "Moviepy - video ready ./all/8f609871c33a11835defd4b9a79a6b30ee4f311d86cc4f513f94515c2cf81126_part_1.mp4\n",
      "Moviepy - Building video ./all/9f06f158766658820031cf3f32a755a1403bcbcb696ce9febc42105f31f4fa46_part_0.mp4.\n",
      "Moviepy - Writing video ./all/9f06f158766658820031cf3f32a755a1403bcbcb696ce9febc42105f31f4fa46_part_0.mp4\n",
      "\n"
     ]
    },
    {
     "name": "stderr",
     "output_type": "stream",
     "text": [
      "                                                                                                                                           \r"
     ]
    },
    {
     "name": "stdout",
     "output_type": "stream",
     "text": [
      "Moviepy - Done !\n",
      "Moviepy - video ready ./all/9f06f158766658820031cf3f32a755a1403bcbcb696ce9febc42105f31f4fa46_part_0.mp4\n",
      "Moviepy - Building video ./all/9f06f158766658820031cf3f32a755a1403bcbcb696ce9febc42105f31f4fa46_part_1.mp4.\n",
      "Moviepy - Writing video ./all/9f06f158766658820031cf3f32a755a1403bcbcb696ce9febc42105f31f4fa46_part_1.mp4\n",
      "\n"
     ]
    },
    {
     "name": "stderr",
     "output_type": "stream",
     "text": [
      "                                                                                                                                           \r"
     ]
    },
    {
     "name": "stdout",
     "output_type": "stream",
     "text": [
      "Moviepy - Done !\n",
      "Moviepy - video ready ./all/9f06f158766658820031cf3f32a755a1403bcbcb696ce9febc42105f31f4fa46_part_1.mp4\n",
      "Moviepy - Building video ./all/85ff8081163fa72a539d5215af9e01f86a078178bd0b2f4b93c71ba033ab456a_part_0.mp4.\n",
      "Moviepy - Writing video ./all/85ff8081163fa72a539d5215af9e01f86a078178bd0b2f4b93c71ba033ab456a_part_0.mp4\n",
      "\n"
     ]
    },
    {
     "name": "stderr",
     "output_type": "stream",
     "text": [
      "                                                                                                                                           \r"
     ]
    },
    {
     "name": "stdout",
     "output_type": "stream",
     "text": [
      "Moviepy - Done !\n",
      "Moviepy - video ready ./all/85ff8081163fa72a539d5215af9e01f86a078178bd0b2f4b93c71ba033ab456a_part_0.mp4\n",
      "Moviepy - Building video ./all/85ff8081163fa72a539d5215af9e01f86a078178bd0b2f4b93c71ba033ab456a_part_1.mp4.\n",
      "Moviepy - Writing video ./all/85ff8081163fa72a539d5215af9e01f86a078178bd0b2f4b93c71ba033ab456a_part_1.mp4\n",
      "\n"
     ]
    },
    {
     "name": "stderr",
     "output_type": "stream",
     "text": [
      "                                                                                                                                           \r"
     ]
    },
    {
     "name": "stdout",
     "output_type": "stream",
     "text": [
      "Moviepy - Done !\n",
      "Moviepy - video ready ./all/85ff8081163fa72a539d5215af9e01f86a078178bd0b2f4b93c71ba033ab456a_part_1.mp4\n",
      "Moviepy - Building video ./all/743a064e5f68f7acd214bbf9df289c9d6fa16e4f851e321fdfb8a07b80dde08a_part_0.mp4.\n",
      "Moviepy - Writing video ./all/743a064e5f68f7acd214bbf9df289c9d6fa16e4f851e321fdfb8a07b80dde08a_part_0.mp4\n",
      "\n"
     ]
    },
    {
     "name": "stderr",
     "output_type": "stream",
     "text": [
      "                                                                                                                                           \r"
     ]
    },
    {
     "name": "stdout",
     "output_type": "stream",
     "text": [
      "Moviepy - Done !\n",
      "Moviepy - video ready ./all/743a064e5f68f7acd214bbf9df289c9d6fa16e4f851e321fdfb8a07b80dde08a_part_0.mp4\n",
      "Moviepy - Building video ./all/743a064e5f68f7acd214bbf9df289c9d6fa16e4f851e321fdfb8a07b80dde08a_part_1.mp4.\n",
      "Moviepy - Writing video ./all/743a064e5f68f7acd214bbf9df289c9d6fa16e4f851e321fdfb8a07b80dde08a_part_1.mp4\n",
      "\n"
     ]
    },
    {
     "name": "stderr",
     "output_type": "stream",
     "text": [
      "                                                                                                                                           \r"
     ]
    },
    {
     "name": "stdout",
     "output_type": "stream",
     "text": [
      "Moviepy - Done !\n",
      "Moviepy - video ready ./all/743a064e5f68f7acd214bbf9df289c9d6fa16e4f851e321fdfb8a07b80dde08a_part_1.mp4\n",
      "Moviepy - Building video ./all/95040dc15ce9ada82353103a13d1b395c937a9ea6747159f631bfa492b98373f_part_0.mp4.\n",
      "Moviepy - Writing video ./all/95040dc15ce9ada82353103a13d1b395c937a9ea6747159f631bfa492b98373f_part_0.mp4\n",
      "\n"
     ]
    },
    {
     "name": "stderr",
     "output_type": "stream",
     "text": [
      "                                                                                                                                           \r"
     ]
    },
    {
     "name": "stdout",
     "output_type": "stream",
     "text": [
      "Moviepy - Done !\n",
      "Moviepy - video ready ./all/95040dc15ce9ada82353103a13d1b395c937a9ea6747159f631bfa492b98373f_part_0.mp4\n",
      "Moviepy - Building video ./all/95040dc15ce9ada82353103a13d1b395c937a9ea6747159f631bfa492b98373f_part_1.mp4.\n",
      "Moviepy - Writing video ./all/95040dc15ce9ada82353103a13d1b395c937a9ea6747159f631bfa492b98373f_part_1.mp4\n",
      "\n"
     ]
    },
    {
     "name": "stderr",
     "output_type": "stream",
     "text": [
      "                                                                                                                                           \r"
     ]
    },
    {
     "name": "stdout",
     "output_type": "stream",
     "text": [
      "Moviepy - Done !\n",
      "Moviepy - video ready ./all/95040dc15ce9ada82353103a13d1b395c937a9ea6747159f631bfa492b98373f_part_1.mp4\n",
      "Moviepy - Building video ./all/95040dc15ce9ada82353103a13d1b395c937a9ea6747159f631bfa492b98373f_part_2.mp4.\n",
      "Moviepy - Writing video ./all/95040dc15ce9ada82353103a13d1b395c937a9ea6747159f631bfa492b98373f_part_2.mp4\n",
      "\n"
     ]
    },
    {
     "name": "stderr",
     "output_type": "stream",
     "text": [
      "                                                                                                                                           \r"
     ]
    },
    {
     "name": "stdout",
     "output_type": "stream",
     "text": [
      "Moviepy - Done !\n",
      "Moviepy - video ready ./all/95040dc15ce9ada82353103a13d1b395c937a9ea6747159f631bfa492b98373f_part_2.mp4\n",
      "Moviepy - Building video ./all/d40739c2aa4b801a2eda2bbb8a554a6ff85e3fc331b719fb52af72bf43224086_part_0.mp4.\n",
      "MoviePy - Writing audio in d40739c2aa4b801a2eda2bbb8a554a6ff85e3fc331b719fb52af72bf43224086_part_0TEMP_MPY_wvf_snd.mp3\n"
     ]
    },
    {
     "name": "stderr",
     "output_type": "stream",
     "text": [
      "                                                                                                                                           \r"
     ]
    },
    {
     "name": "stdout",
     "output_type": "stream",
     "text": [
      "MoviePy - Done.\n",
      "Moviepy - Writing video ./all/d40739c2aa4b801a2eda2bbb8a554a6ff85e3fc331b719fb52af72bf43224086_part_0.mp4\n",
      "\n"
     ]
    },
    {
     "name": "stderr",
     "output_type": "stream",
     "text": [
      "                                                                                                                                           \r"
     ]
    },
    {
     "name": "stdout",
     "output_type": "stream",
     "text": [
      "Moviepy - Done !\n",
      "Moviepy - video ready ./all/d40739c2aa4b801a2eda2bbb8a554a6ff85e3fc331b719fb52af72bf43224086_part_0.mp4\n",
      "Moviepy - Building video ./all/d40739c2aa4b801a2eda2bbb8a554a6ff85e3fc331b719fb52af72bf43224086_part_1.mp4.\n",
      "MoviePy - Writing audio in d40739c2aa4b801a2eda2bbb8a554a6ff85e3fc331b719fb52af72bf43224086_part_1TEMP_MPY_wvf_snd.mp3\n"
     ]
    },
    {
     "name": "stderr",
     "output_type": "stream",
     "text": [
      "                                                                                                                                           \r"
     ]
    },
    {
     "name": "stdout",
     "output_type": "stream",
     "text": [
      "MoviePy - Done.\n",
      "Moviepy - Writing video ./all/d40739c2aa4b801a2eda2bbb8a554a6ff85e3fc331b719fb52af72bf43224086_part_1.mp4\n",
      "\n"
     ]
    },
    {
     "name": "stderr",
     "output_type": "stream",
     "text": [
      "                                                                                                                                           \r"
     ]
    },
    {
     "name": "stdout",
     "output_type": "stream",
     "text": [
      "Moviepy - Done !\n",
      "Moviepy - video ready ./all/d40739c2aa4b801a2eda2bbb8a554a6ff85e3fc331b719fb52af72bf43224086_part_1.mp4\n"
     ]
    }
   ],
   "source": [
    "for index, row in df_filtered.iterrows():\n",
    "    end_L = get_endframes_Ls(row['count'])\n",
    "    input_path = './all/' + row['name']\n",
    "    last_end_frame = 0\n",
    "    # Example usage in your loop\n",
    "    for i in range(len(end_L) - 1):\n",
    "        start_L_value = f'L{end_L[i]}'\n",
    "        end_L_value = f'L{end_L[i+1]}'\n",
    "\n",
    "        start_frame = row[start_L_value]\n",
    "        end_frame = row[end_L_value]\n",
    "\n",
    "        # Calculate new count and ensure it's even\n",
    "        count = (end_L[i+1] - end_L[i]) // 2\n",
    "\n",
    "        output_path = './all/' + row['name'].split('.')[0] + '_part_' + str(i) + '.mp4'\n",
    "\n",
    "        split_video(input_path, output_path, start_frame, end_frame)\n",
    "\n",
    "        new_name = row['name'].split('.')[0] + '_part_' + str(i) + '.mp4'\n",
    "        new_row = {\n",
    "            'type': row['type'],\n",
    "            'name': new_name,\n",
    "            'count': count,\n",
    "        }\n",
    "        \n",
    "           \n",
    "        for j in range(end_L[i], end_L[i+1]):\n",
    "            new_row[f'L{j - end_L[i] + 1}'] = row[f'L{j}'] - last_end_frame\n",
    "        \n",
    "        last_end_frame = end_frame\n",
    "\n",
    "        new_df = new_df.append(new_row, ignore_index=True)\n",
    "        \n",
    "     # Delete the original video\n",
    "    if os.path.exists(input_path):\n",
    "        os.remove(input_path)"
   ]
  },
  {
   "cell_type": "code",
   "execution_count": 40,
   "id": "1fed08b9",
   "metadata": {},
   "outputs": [],
   "source": [
    "# Rename the first column to an empty string\n",
    "new_df.rename(columns={df.columns[0]: ''}, inplace=True)"
   ]
  },
  {
   "cell_type": "code",
   "execution_count": 41,
   "id": "aab544bb",
   "metadata": {},
   "outputs": [
    {
     "data": {
      "text/html": [
       "<div>\n",
       "<style scoped>\n",
       "    .dataframe tbody tr th:only-of-type {\n",
       "        vertical-align: middle;\n",
       "    }\n",
       "\n",
       "    .dataframe tbody tr th {\n",
       "        vertical-align: top;\n",
       "    }\n",
       "\n",
       "    .dataframe thead th {\n",
       "        text-align: right;\n",
       "    }\n",
       "</style>\n",
       "<table border=\"1\" class=\"dataframe\">\n",
       "  <thead>\n",
       "    <tr style=\"text-align: right;\">\n",
       "      <th></th>\n",
       "      <th></th>\n",
       "      <th>type</th>\n",
       "      <th>name</th>\n",
       "      <th>count</th>\n",
       "      <th>L1</th>\n",
       "      <th>L2</th>\n",
       "      <th>L3</th>\n",
       "      <th>L4</th>\n",
       "      <th>L5</th>\n",
       "      <th>L6</th>\n",
       "      <th>...</th>\n",
       "      <th>L127</th>\n",
       "      <th>L128</th>\n",
       "      <th>L129</th>\n",
       "      <th>L130</th>\n",
       "      <th>L131</th>\n",
       "      <th>L132</th>\n",
       "      <th>L133</th>\n",
       "      <th>L134</th>\n",
       "      <th>L135</th>\n",
       "      <th>L136</th>\n",
       "    </tr>\n",
       "  </thead>\n",
       "  <tbody>\n",
       "    <tr>\n",
       "      <th>0</th>\n",
       "      <td>0.0</td>\n",
       "      <td>cow_bite</td>\n",
       "      <td>1cd30bf7a77bbfaaf85acb2b27da587a74e5951067ba96...</td>\n",
       "      <td>8</td>\n",
       "      <td>8.0</td>\n",
       "      <td>24.0</td>\n",
       "      <td>37.0</td>\n",
       "      <td>47.0</td>\n",
       "      <td>60.0</td>\n",
       "      <td>72.0</td>\n",
       "      <td>...</td>\n",
       "      <td>NaN</td>\n",
       "      <td>NaN</td>\n",
       "      <td>NaN</td>\n",
       "      <td>NaN</td>\n",
       "      <td>NaN</td>\n",
       "      <td>NaN</td>\n",
       "      <td>NaN</td>\n",
       "      <td>NaN</td>\n",
       "      <td>NaN</td>\n",
       "      <td>NaN</td>\n",
       "    </tr>\n",
       "    <tr>\n",
       "      <th>1</th>\n",
       "      <td>3.0</td>\n",
       "      <td>cow_bite</td>\n",
       "      <td>6bad72b6e29e294f91508e5dbcc3b762e42c9103ddcf6e...</td>\n",
       "      <td>12</td>\n",
       "      <td>10.0</td>\n",
       "      <td>19.0</td>\n",
       "      <td>31.0</td>\n",
       "      <td>39.0</td>\n",
       "      <td>50.0</td>\n",
       "      <td>57.0</td>\n",
       "      <td>...</td>\n",
       "      <td>NaN</td>\n",
       "      <td>NaN</td>\n",
       "      <td>NaN</td>\n",
       "      <td>NaN</td>\n",
       "      <td>NaN</td>\n",
       "      <td>NaN</td>\n",
       "      <td>NaN</td>\n",
       "      <td>NaN</td>\n",
       "      <td>NaN</td>\n",
       "      <td>NaN</td>\n",
       "    </tr>\n",
       "    <tr>\n",
       "      <th>2</th>\n",
       "      <td>4.0</td>\n",
       "      <td>cow_bite</td>\n",
       "      <td>6f9416bb9789f27385491d3b308c52f2c5a441038301fc...</td>\n",
       "      <td>1</td>\n",
       "      <td>0.0</td>\n",
       "      <td>26.0</td>\n",
       "      <td>NaN</td>\n",
       "      <td>NaN</td>\n",
       "      <td>NaN</td>\n",
       "      <td>NaN</td>\n",
       "      <td>...</td>\n",
       "      <td>NaN</td>\n",
       "      <td>NaN</td>\n",
       "      <td>NaN</td>\n",
       "      <td>NaN</td>\n",
       "      <td>NaN</td>\n",
       "      <td>NaN</td>\n",
       "      <td>NaN</td>\n",
       "      <td>NaN</td>\n",
       "      <td>NaN</td>\n",
       "      <td>NaN</td>\n",
       "    </tr>\n",
       "    <tr>\n",
       "      <th>3</th>\n",
       "      <td>8.0</td>\n",
       "      <td>cow_bite</td>\n",
       "      <td>46e9cc048a75d3c6404323ffa5ff8668c6b96a1640c61a...</td>\n",
       "      <td>22</td>\n",
       "      <td>0.0</td>\n",
       "      <td>6.0</td>\n",
       "      <td>16.0</td>\n",
       "      <td>27.0</td>\n",
       "      <td>36.0</td>\n",
       "      <td>47.0</td>\n",
       "      <td>...</td>\n",
       "      <td>NaN</td>\n",
       "      <td>NaN</td>\n",
       "      <td>NaN</td>\n",
       "      <td>NaN</td>\n",
       "      <td>NaN</td>\n",
       "      <td>NaN</td>\n",
       "      <td>NaN</td>\n",
       "      <td>NaN</td>\n",
       "      <td>NaN</td>\n",
       "      <td>NaN</td>\n",
       "    </tr>\n",
       "    <tr>\n",
       "      <th>4</th>\n",
       "      <td>10.0</td>\n",
       "      <td>cow_bite</td>\n",
       "      <td>94cdae122f4e4e40aa8ab7cdee44926435768e88eca067...</td>\n",
       "      <td>10</td>\n",
       "      <td>15.0</td>\n",
       "      <td>25.0</td>\n",
       "      <td>36.0</td>\n",
       "      <td>51.0</td>\n",
       "      <td>62.0</td>\n",
       "      <td>71.0</td>\n",
       "      <td>...</td>\n",
       "      <td>NaN</td>\n",
       "      <td>NaN</td>\n",
       "      <td>NaN</td>\n",
       "      <td>NaN</td>\n",
       "      <td>NaN</td>\n",
       "      <td>NaN</td>\n",
       "      <td>NaN</td>\n",
       "      <td>NaN</td>\n",
       "      <td>NaN</td>\n",
       "      <td>NaN</td>\n",
       "    </tr>\n",
       "    <tr>\n",
       "      <th>...</th>\n",
       "      <td>...</td>\n",
       "      <td>...</td>\n",
       "      <td>...</td>\n",
       "      <td>...</td>\n",
       "      <td>...</td>\n",
       "      <td>...</td>\n",
       "      <td>...</td>\n",
       "      <td>...</td>\n",
       "      <td>...</td>\n",
       "      <td>...</td>\n",
       "      <td>...</td>\n",
       "      <td>...</td>\n",
       "      <td>...</td>\n",
       "      <td>...</td>\n",
       "      <td>...</td>\n",
       "      <td>...</td>\n",
       "      <td>...</td>\n",
       "      <td>...</td>\n",
       "      <td>...</td>\n",
       "      <td>...</td>\n",
       "      <td>...</td>\n",
       "    </tr>\n",
       "    <tr>\n",
       "      <th>73</th>\n",
       "      <td>NaN</td>\n",
       "      <td>cow_bite</td>\n",
       "      <td>95040dc15ce9ada82353103a13d1b395c937a9ea674715...</td>\n",
       "      <td>25</td>\n",
       "      <td>22.0</td>\n",
       "      <td>29.0</td>\n",
       "      <td>44.0</td>\n",
       "      <td>51.0</td>\n",
       "      <td>64.0</td>\n",
       "      <td>71.0</td>\n",
       "      <td>...</td>\n",
       "      <td>NaN</td>\n",
       "      <td>NaN</td>\n",
       "      <td>NaN</td>\n",
       "      <td>NaN</td>\n",
       "      <td>NaN</td>\n",
       "      <td>NaN</td>\n",
       "      <td>NaN</td>\n",
       "      <td>NaN</td>\n",
       "      <td>NaN</td>\n",
       "      <td>NaN</td>\n",
       "    </tr>\n",
       "    <tr>\n",
       "      <th>74</th>\n",
       "      <td>NaN</td>\n",
       "      <td>cow_bite</td>\n",
       "      <td>95040dc15ce9ada82353103a13d1b395c937a9ea674715...</td>\n",
       "      <td>25</td>\n",
       "      <td>0.0</td>\n",
       "      <td>5.0</td>\n",
       "      <td>17.0</td>\n",
       "      <td>24.0</td>\n",
       "      <td>35.0</td>\n",
       "      <td>42.0</td>\n",
       "      <td>...</td>\n",
       "      <td>NaN</td>\n",
       "      <td>NaN</td>\n",
       "      <td>NaN</td>\n",
       "      <td>NaN</td>\n",
       "      <td>NaN</td>\n",
       "      <td>NaN</td>\n",
       "      <td>NaN</td>\n",
       "      <td>NaN</td>\n",
       "      <td>NaN</td>\n",
       "      <td>NaN</td>\n",
       "    </tr>\n",
       "    <tr>\n",
       "      <th>75</th>\n",
       "      <td>NaN</td>\n",
       "      <td>cow_bite</td>\n",
       "      <td>95040dc15ce9ada82353103a13d1b395c937a9ea674715...</td>\n",
       "      <td>17</td>\n",
       "      <td>0.0</td>\n",
       "      <td>7.0</td>\n",
       "      <td>17.0</td>\n",
       "      <td>24.0</td>\n",
       "      <td>35.0</td>\n",
       "      <td>42.0</td>\n",
       "      <td>...</td>\n",
       "      <td>NaN</td>\n",
       "      <td>NaN</td>\n",
       "      <td>NaN</td>\n",
       "      <td>NaN</td>\n",
       "      <td>NaN</td>\n",
       "      <td>NaN</td>\n",
       "      <td>NaN</td>\n",
       "      <td>NaN</td>\n",
       "      <td>NaN</td>\n",
       "      <td>NaN</td>\n",
       "    </tr>\n",
       "    <tr>\n",
       "      <th>76</th>\n",
       "      <td>NaN</td>\n",
       "      <td>cow_bite</td>\n",
       "      <td>d40739c2aa4b801a2eda2bbb8a554a6ff85e3fc331b719...</td>\n",
       "      <td>25</td>\n",
       "      <td>5.0</td>\n",
       "      <td>10.0</td>\n",
       "      <td>17.0</td>\n",
       "      <td>23.0</td>\n",
       "      <td>31.0</td>\n",
       "      <td>36.0</td>\n",
       "      <td>...</td>\n",
       "      <td>NaN</td>\n",
       "      <td>NaN</td>\n",
       "      <td>NaN</td>\n",
       "      <td>NaN</td>\n",
       "      <td>NaN</td>\n",
       "      <td>NaN</td>\n",
       "      <td>NaN</td>\n",
       "      <td>NaN</td>\n",
       "      <td>NaN</td>\n",
       "      <td>NaN</td>\n",
       "    </tr>\n",
       "    <tr>\n",
       "      <th>77</th>\n",
       "      <td>NaN</td>\n",
       "      <td>cow_bite</td>\n",
       "      <td>d40739c2aa4b801a2eda2bbb8a554a6ff85e3fc331b719...</td>\n",
       "      <td>8</td>\n",
       "      <td>0.0</td>\n",
       "      <td>4.0</td>\n",
       "      <td>11.0</td>\n",
       "      <td>17.0</td>\n",
       "      <td>25.0</td>\n",
       "      <td>29.0</td>\n",
       "      <td>...</td>\n",
       "      <td>NaN</td>\n",
       "      <td>NaN</td>\n",
       "      <td>NaN</td>\n",
       "      <td>NaN</td>\n",
       "      <td>NaN</td>\n",
       "      <td>NaN</td>\n",
       "      <td>NaN</td>\n",
       "      <td>NaN</td>\n",
       "      <td>NaN</td>\n",
       "      <td>NaN</td>\n",
       "    </tr>\n",
       "  </tbody>\n",
       "</table>\n",
       "<p>78 rows × 140 columns</p>\n",
       "</div>"
      ],
      "text/plain": [
       "              type                                               name  count  \\\n",
       "0    0.0  cow_bite  1cd30bf7a77bbfaaf85acb2b27da587a74e5951067ba96...      8   \n",
       "1    3.0  cow_bite  6bad72b6e29e294f91508e5dbcc3b762e42c9103ddcf6e...     12   \n",
       "2    4.0  cow_bite  6f9416bb9789f27385491d3b308c52f2c5a441038301fc...      1   \n",
       "3    8.0  cow_bite  46e9cc048a75d3c6404323ffa5ff8668c6b96a1640c61a...     22   \n",
       "4   10.0  cow_bite  94cdae122f4e4e40aa8ab7cdee44926435768e88eca067...     10   \n",
       "..   ...       ...                                                ...    ...   \n",
       "73   NaN  cow_bite  95040dc15ce9ada82353103a13d1b395c937a9ea674715...     25   \n",
       "74   NaN  cow_bite  95040dc15ce9ada82353103a13d1b395c937a9ea674715...     25   \n",
       "75   NaN  cow_bite  95040dc15ce9ada82353103a13d1b395c937a9ea674715...     17   \n",
       "76   NaN  cow_bite  d40739c2aa4b801a2eda2bbb8a554a6ff85e3fc331b719...     25   \n",
       "77   NaN  cow_bite  d40739c2aa4b801a2eda2bbb8a554a6ff85e3fc331b719...      8   \n",
       "\n",
       "      L1    L2    L3    L4    L5    L6  ...  L127  L128  L129  L130  L131  \\\n",
       "0    8.0  24.0  37.0  47.0  60.0  72.0  ...   NaN   NaN   NaN   NaN   NaN   \n",
       "1   10.0  19.0  31.0  39.0  50.0  57.0  ...   NaN   NaN   NaN   NaN   NaN   \n",
       "2    0.0  26.0   NaN   NaN   NaN   NaN  ...   NaN   NaN   NaN   NaN   NaN   \n",
       "3    0.0   6.0  16.0  27.0  36.0  47.0  ...   NaN   NaN   NaN   NaN   NaN   \n",
       "4   15.0  25.0  36.0  51.0  62.0  71.0  ...   NaN   NaN   NaN   NaN   NaN   \n",
       "..   ...   ...   ...   ...   ...   ...  ...   ...   ...   ...   ...   ...   \n",
       "73  22.0  29.0  44.0  51.0  64.0  71.0  ...   NaN   NaN   NaN   NaN   NaN   \n",
       "74   0.0   5.0  17.0  24.0  35.0  42.0  ...   NaN   NaN   NaN   NaN   NaN   \n",
       "75   0.0   7.0  17.0  24.0  35.0  42.0  ...   NaN   NaN   NaN   NaN   NaN   \n",
       "76   5.0  10.0  17.0  23.0  31.0  36.0  ...   NaN   NaN   NaN   NaN   NaN   \n",
       "77   0.0   4.0  11.0  17.0  25.0  29.0  ...   NaN   NaN   NaN   NaN   NaN   \n",
       "\n",
       "    L132  L133  L134  L135  L136  \n",
       "0    NaN   NaN   NaN   NaN   NaN  \n",
       "1    NaN   NaN   NaN   NaN   NaN  \n",
       "2    NaN   NaN   NaN   NaN   NaN  \n",
       "3    NaN   NaN   NaN   NaN   NaN  \n",
       "4    NaN   NaN   NaN   NaN   NaN  \n",
       "..   ...   ...   ...   ...   ...  \n",
       "73   NaN   NaN   NaN   NaN   NaN  \n",
       "74   NaN   NaN   NaN   NaN   NaN  \n",
       "75   NaN   NaN   NaN   NaN   NaN  \n",
       "76   NaN   NaN   NaN   NaN   NaN  \n",
       "77   NaN   NaN   NaN   NaN   NaN  \n",
       "\n",
       "[78 rows x 140 columns]"
      ]
     },
     "execution_count": 41,
     "metadata": {},
     "output_type": "execute_result"
    }
   ],
   "source": [
    "new_df"
   ]
  },
  {
   "cell_type": "code",
   "execution_count": 42,
   "id": "25d8bbef",
   "metadata": {},
   "outputs": [],
   "source": [
    "# Save the new DataFrame to a CSV file\n",
    "new_df.to_csv('clipped_videos.csv', index=False)"
   ]
  },
  {
   "cell_type": "code",
   "execution_count": null,
   "id": "a61911c7",
   "metadata": {},
   "outputs": [],
   "source": []
  }
 ],
 "metadata": {
  "kernelspec": {
   "display_name": "scrambmix",
   "language": "python",
   "name": "scrambmix"
  },
  "language_info": {
   "codemirror_mode": {
    "name": "ipython",
    "version": 3
   },
   "file_extension": ".py",
   "mimetype": "text/x-python",
   "name": "python",
   "nbconvert_exporter": "python",
   "pygments_lexer": "ipython3",
   "version": "3.8.17"
  }
 },
 "nbformat": 4,
 "nbformat_minor": 5
}

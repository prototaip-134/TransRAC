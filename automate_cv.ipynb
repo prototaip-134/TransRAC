{
 "cells": [
  {
   "cell_type": "markdown",
   "metadata": {},
   "source": [
    "### Notes\n",
    "\n",
    "Run this after you have extracted the features using the encoder to all the videos."
   ]
  },
  {
   "cell_type": "markdown",
   "metadata": {},
   "source": [
    "### Move to inside the folder"
   ]
  },
  {
   "cell_type": "code",
   "execution_count": 1,
   "metadata": {},
   "outputs": [],
   "source": [
    "import os\n",
    "import shutil\n",
    "import subprocess"
   ]
  },
  {
   "cell_type": "markdown",
   "metadata": {},
   "source": [
    "### Move the annotation files"
   ]
  },
  {
   "cell_type": "code",
   "execution_count": 2,
   "metadata": {},
   "outputs": [],
   "source": [
    "# Define your command as a list of arguments\n",
    "command = [\n",
    "    'python',\n",
    "    'test.py',\n",
    "]"
   ]
  },
  {
   "cell_type": "code",
   "execution_count": 3,
   "metadata": {},
   "outputs": [
    {
     "name": "stderr",
     "output_type": "stream",
     "text": [
      "/home/sadat/miniconda3/envs/transrac/lib/python3.8/site-packages/mmcv/__init__.py:20: UserWarning: On January 1, 2023, MMCV will release v2.0.0, in which it will remove components related to the training process and add a data transformation module. In addition, it will rename the package names mmcv to mmcv-lite and mmcv-full to mmcv. See https://github.com/open-mmlab/mmcv/blob/master/docs/en/compatibility.md for more details.\n",
      "  warnings.warn(\n"
     ]
    },
    {
     "name": "stdout",
     "output_type": "stream",
     "text": [
      "apex is not installed\n"
     ]
    },
    {
     "name": "stderr",
     "output_type": "stream",
     "text": [
      "/home/sadat/miniconda3/envs/transrac/lib/python3.8/site-packages/torch/functional.py:568: UserWarning: torch.meshgrid: in an upcoming release, it will be required to pass the indexing argument. (Triggered internally at  ../aten/src/ATen/native/TensorShape.cpp:2228.)\n",
      "  return _VF.meshgrid(tensors, **kwargs)  # type: ignore[attr-defined]\n"
     ]
    },
    {
     "name": "stdout",
     "output_type": "stream",
     "text": [
      "load checkpoint from local path: ./pretrained/swin_tiny_patch244_window877_kinetics400_1k.pth\n",
      "--------- backbone loaded ------------\n",
      "loading checkpoint\n"
     ]
    },
    {
     "name": "stderr",
     "output_type": "stream",
     "text": [
      "  0%|          | 0/300 [00:00<?, ?it/s]\n",
      "  0%|          | 0/6 [00:00<?, ?it/s]\u001b[A\n",
      "  0%|          | 0/6 [00:14<?, ?it/s, Epoch=0, loss_train=0.047, Train MAE=0.732, Train OBO =0.188]\u001b[A\n",
      " 17%|█▋        | 1/6 [00:14<01:14, 14.98s/it, Epoch=0, loss_train=0.047, Train MAE=0.732, Train OBO =0.188]\u001b[A\n",
      " 17%|█▋        | 1/6 [00:18<01:14, 14.98s/it, Epoch=0, loss_train=0.0525, Train MAE=0.736, Train OBO =0.0625]\u001b[A\n",
      " 33%|███▎      | 2/6 [00:18<00:33,  8.46s/it, Epoch=0, loss_train=0.0525, Train MAE=0.736, Train OBO =0.0625]\u001b[A\n",
      " 33%|███▎      | 2/6 [00:22<00:33,  8.46s/it, Epoch=0, loss_train=0.0515, Train MAE=0.682, Train OBO =0.0938]\u001b[A\n",
      " 50%|█████     | 3/6 [00:22<00:18,  6.33s/it, Epoch=0, loss_train=0.0515, Train MAE=0.682, Train OBO =0.0938]\u001b[A\n",
      " 50%|█████     | 3/6 [00:26<00:18,  6.33s/it, Epoch=0, loss_train=0.0375, Train MAE=0.924, Train OBO =0.0938]\u001b[A\n",
      " 67%|██████▋   | 4/6 [00:26<00:10,  5.32s/it, Epoch=0, loss_train=0.0375, Train MAE=0.924, Train OBO =0.0938]\u001b[A\n",
      " 67%|██████▋   | 4/6 [00:30<00:10,  5.32s/it, Epoch=0, loss_train=0.0417, Train MAE=0.834, Train OBO =0.156] \u001b[A\n",
      " 83%|████████▎ | 5/6 [00:30<00:04,  4.83s/it, Epoch=0, loss_train=0.0417, Train MAE=0.834, Train OBO =0.156]\u001b[A\n",
      " 83%|████████▎ | 5/6 [00:31<00:04,  4.83s/it, Epoch=0, loss_train=0.0217, Train MAE=0.0508, Train OBO =1]   \u001b[A\n",
      "100%|██████████| 6/6 [00:31<00:00,  5.28s/it, Epoch=0, loss_train=0.0217, Train MAE=0.0508, Train OBO =1]\u001b[A\n",
      "\n",
      "  0%|          | 0/1 [00:00<?, ?it/s]\u001b[A"
     ]
    },
    {
     "name": "stdout",
     "output_type": "stream",
     "text": [
      "Validation loss decreased (inf --> 0.047476).  Saving model ...\n"
     ]
    },
    {
     "name": "stderr",
     "output_type": "stream",
     "text": [
      "\n",
      "  0%|          | 0/1 [00:06<?, ?it/s, Epoch=0, loss_valid=0.0475, Valid MAE=1.04, Valid OBO =0]\u001b[A\n",
      "100%|██████████| 1/1 [00:06<00:00,  6.87s/it, Epoch=0, loss_valid=0.0475, Valid MAE=1.04, Valid OBO =0]\u001b[A\n",
      "  0%|          | 1/300 [00:38<3:12:41, 38.67s/it]\n",
      "  0%|          | 0/6 [00:00<?, ?it/s]\u001b[A\n",
      "  0%|          | 0/6 [00:15<?, ?it/s, Epoch=1, loss_train=0.0505, Train MAE=1.57, Train OBO =0.0938]\u001b[A\n",
      " 17%|█▋        | 1/6 [00:15<01:17, 15.41s/it, Epoch=1, loss_train=0.0505, Train MAE=1.57, Train OBO =0.0938]\u001b[A\n",
      " 17%|█▋        | 1/6 [00:19<01:17, 15.41s/it, Epoch=1, loss_train=0.0388, Train MAE=0.413, Train OBO =0.281]\u001b[A\n",
      " 33%|███▎      | 2/6 [00:19<00:34,  8.57s/it, Epoch=1, loss_train=0.0388, Train MAE=0.413, Train OBO =0.281]\u001b[A\n",
      " 33%|███▎      | 2/6 [00:22<00:34,  8.57s/it, Epoch=1, loss_train=0.0341, Train MAE=0.608, Train OBO =0.0625]\u001b[A\n",
      " 50%|█████     | 3/6 [00:22<00:19,  6.39s/it, Epoch=1, loss_train=0.0341, Train MAE=0.608, Train OBO =0.0625]\u001b[A\n",
      " 50%|█████     | 3/6 [00:26<00:19,  6.39s/it, Epoch=1, loss_train=0.0336, Train MAE=0.982, Train OBO =0.125] \u001b[A\n",
      " 67%|██████▋   | 4/6 [00:26<00:10,  5.36s/it, Epoch=1, loss_train=0.0336, Train MAE=0.982, Train OBO =0.125]\u001b[A\n",
      " 67%|██████▋   | 4/6 [00:30<00:10,  5.36s/it, Epoch=1, loss_train=0.0356, Train MAE=0.964, Train OBO =0.156]\u001b[A\n",
      " 83%|████████▎ | 5/6 [00:30<00:04,  4.79s/it, Epoch=1, loss_train=0.0356, Train MAE=0.964, Train OBO =0.156]\u001b[A\n",
      " 83%|████████▎ | 5/6 [00:31<00:04,  4.79s/it, Epoch=1, loss_train=0.0163, Train MAE=0.0286, Train OBO =1]   \u001b[A\n",
      "100%|██████████| 6/6 [00:31<00:00,  5.30s/it, Epoch=1, loss_train=0.0163, Train MAE=0.0286, Train OBO =1]\u001b[A\n",
      "  1%|          | 2/300 [01:10<2:51:58, 34.62s/it]\n",
      "  0%|          | 0/6 [00:00<?, ?it/s]\u001b[A\n",
      "  0%|          | 0/6 [00:15<?, ?it/s, Epoch=2, loss_train=0.0367, Train MAE=0.786, Train OBO =0.188]\u001b[A\n",
      " 17%|█▋        | 1/6 [00:15<01:16, 15.39s/it, Epoch=2, loss_train=0.0367, Train MAE=0.786, Train OBO =0.188]\u001b[A\n",
      " 17%|█▋        | 1/6 [00:19<01:16, 15.39s/it, Epoch=2, loss_train=0.0403, Train MAE=0.513, Train OBO =0.156]\u001b[A\n",
      " 33%|███▎      | 2/6 [00:19<00:34,  8.58s/it, Epoch=2, loss_train=0.0403, Train MAE=0.513, Train OBO =0.156]\u001b[A\n",
      " 33%|███▎      | 2/6 [00:23<00:34,  8.58s/it, Epoch=2, loss_train=0.0411, Train MAE=0.571, Train OBO =0.156]\u001b[A\n",
      " 50%|█████     | 3/6 [00:23<00:19,  6.48s/it, Epoch=2, loss_train=0.0411, Train MAE=0.571, Train OBO =0.156]\u001b[A\n",
      " 50%|█████     | 3/6 [00:27<00:19,  6.48s/it, Epoch=2, loss_train=0.0294, Train MAE=0.44, Train OBO =0.0938]\u001b[A\n",
      " 67%|██████▋   | 4/6 [00:27<00:11,  5.61s/it, Epoch=2, loss_train=0.0294, Train MAE=0.44, Train OBO =0.0938]\u001b[A"
     ]
    }
   ],
   "source": [
    "\n",
    "for fold_number in range(1, 11):\n",
    "    # Define the source and destination paths\n",
    "    train_source = f'./cv_splits/fold_{fold_number}/train.csv'\n",
    "    val_source = f'./cv_splits/fold_{fold_number}/valid.csv'\n",
    "    test_source = f'./cv_splits/fold_{fold_number}/test.csv'\n",
    "\n",
    "    train_destination = './data/train.csv'\n",
    "    val_destination = './data/valid.csv'\n",
    "    test_destination = './data/test.csv'\n",
    "\n",
    "    # Copy the file\n",
    "    shutil.copy(train_source, train_destination)\n",
    "    shutil.copy(val_source, val_destination)\n",
    "    shutil.copy(test_source, test_destination)\n",
    "\n",
    "    # Train the current folder\n",
    "    # Run the script\n",
    "    os.system('python train.py')\n",
    "\n",
    "    # Run the command and capture the output\n",
    "    result = subprocess.run(command, capture_output=True, text=True)\n",
    "\n",
    "    # Print the output and error (if any)\n",
    "    print(\"Output:\", result.stdout)\n",
    "    print(\"Error:\", result.stderr)\n",
    "\n",
    "    # Save the output to a text file\n",
    "    with open(f\"fold_{fold_number}_output.txt\", \"w\") as file:\n",
    "        file.write(result.stdout)"
   ]
  },
  {
   "cell_type": "code",
   "execution_count": null,
   "metadata": {},
   "outputs": [],
   "source": []
  }
 ],
 "metadata": {
  "kernelspec": {
   "display_name": "escounts",
   "language": "python",
   "name": "python3"
  },
  "language_info": {
   "codemirror_mode": {
    "name": "ipython",
    "version": 3
   },
   "file_extension": ".py",
   "mimetype": "text/x-python",
   "name": "python",
   "nbconvert_exporter": "python",
   "pygments_lexer": "ipython3",
   "version": "3.8.19"
  }
 },
 "nbformat": 4,
 "nbformat_minor": 2
}
